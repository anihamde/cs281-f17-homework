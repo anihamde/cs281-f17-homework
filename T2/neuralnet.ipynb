{
 "cells": [
  {
   "cell_type": "code",
   "execution_count": 17,
   "metadata": {
    "collapsed": true
   },
   "outputs": [],
   "source": [
    "import utils\n",
    "\n",
    "import numpy as np\n",
    "import pandas as pd\n",
    "import torch\n",
    "from torch.autograd import Variable\n",
    "from torch import optim\n",
    "import time\n",
    "import math"
   ]
  },
  {
   "cell_type": "code",
   "execution_count": 18,
   "metadata": {
    "collapsed": true
   },
   "outputs": [],
   "source": [
    "BS = 1000"
   ]
  },
  {
   "cell_type": "code",
   "execution_count": 19,
   "metadata": {
    "collapsed": false
   },
   "outputs": [
    {
     "name": "stdout",
     "output_type": "stream",
     "text": [
      "Loading Data\n",
      "2\n",
      "1\n"
     ]
    }
   ],
   "source": [
    "train_iter, val_iter, test_iter, text_field = utils.load_imdb(batch_size=BS)"
   ]
  },
  {
   "cell_type": "code",
   "execution_count": null,
   "metadata": {
    "collapsed": false
   },
   "outputs": [],
   "source": []
  },
  {
   "cell_type": "code",
   "execution_count": 34,
   "metadata": {
    "collapsed": false
   },
   "outputs": [],
   "source": [
    "def neural_net_torch(nfeats,nclasses):\n",
    "    model = torch.nn.Sequential()\n",
    "    model.add_module('lin1',torch.nn.Linear(nfeats, 1000))\n",
    "    model.add_module('ReLU',torch.nn.ReLU())\n",
    "    model.add_module('lin2',torch.nn.Linear(1000,100))\n",
    "    model.add_module('sigmoid',torch.nn.Sigmoid())\n",
    "    model.add_module('lin3',torch.nn.Linear(100, nclasses))\n",
    "    \n",
    "    return model\n",
    "\n",
    "def train(model,loss,optimizer,x,y):\n",
    "    x = Variable(x)\n",
    "    y = Variable(y)\n",
    "\n",
    "    optimizer.zero_grad()\n",
    "\n",
    "    forward_x = model.forward(x)\n",
    "    obj = loss.forward(forward_x,y)\n",
    "\n",
    "    obj.backward()\n",
    "\n",
    "    optimizer.step()\n",
    "\n",
    "    return obj.data[0]\n",
    "\n",
    "def predict(model, x):\n",
    "    # x = Variable(x)\n",
    "    forward_x = model.forward(x)\n",
    "    return forward_x.data.numpy().argmax(axis=1)"
   ]
  },
  {
   "cell_type": "code",
   "execution_count": null,
   "metadata": {
    "collapsed": false
   },
   "outputs": [
    {
     "name": "stdout",
     "output_type": "stream",
     "text": [
      "TRAINING\n",
      "Epoch 1, cost = 16.645996, acc = 51.20%\n",
      "Validation acc = 52.80%\n",
      "Epoch 2, cost = 16.552638, acc = 55.00%\n",
      "Validation acc = 56.90%\n",
      "Epoch 3, cost = 16.460857, acc = 57.80%\n",
      "Validation acc = 59.00%\n",
      "Epoch 4, cost = 16.344453, acc = 63.80%\n",
      "Validation acc = 62.50%\n",
      "Epoch 5, cost = 16.224695, acc = 66.70%\n",
      "Validation acc = 60.60%\n",
      "Epoch 6, cost = 16.042498, acc = 57.00%\n",
      "Validation acc = 54.20%\n",
      "Epoch 7, cost = 15.866636, acc = 64.80%\n",
      "Validation acc = 65.40%\n",
      "Epoch 8, cost = 15.698882, acc = 64.30%\n",
      "Validation acc = 66.90%\n"
     ]
    }
   ],
   "source": [
    "eta = 0.05\n",
    "model = neural_net_torch(245703,2)\n",
    "optimizer = optim.SGD(model.parameters(),lr=eta)\n",
    "loss = torch.nn.CrossEntropyLoss()\n",
    "\n",
    "timebefore = time.clock()\n",
    "\n",
    "print \"TRAINING\"\n",
    "\n",
    "for k in range(0,30):\n",
    "    cost = 0.\n",
    "    for batch in train_iter:\n",
    "        xval = utils.bag_of_words(batch,text_field)\n",
    "        yval = batch.label-1\n",
    "        cost += train(model,loss,optimizer,xval.data,yval.data)\n",
    "    predtrain = predict(model,xval)\n",
    "    print \"Epoch %d, cost = %f, acc = %.2f%%\"%(k + 1, cost, 100. * np.mean(predtrain == yval.data.numpy()))\n",
    "\n",
    "    # Validation\n",
    "\n",
    "    for batch in val_iter:\n",
    "        xval = utils.bag_of_words(batch,text_field)\n",
    "        yval1 = batch.label-1\n",
    "    predval = predict(model,xval)\n",
    "    print \"Validation acc = %.2f%%\"%(100. * np.mean(predval == yval1.data.numpy()))\n",
    "\n",
    "print time.clock()-timebefore"
   ]
  },
  {
   "cell_type": "code",
   "execution_count": null,
   "metadata": {
    "collapsed": true
   },
   "outputs": [],
   "source": [
    "timebefore = time.clock()\n",
    "\n",
    "print \"TEST\"\n",
    "\n",
    "for batch in test_iter:\n",
    "    xval = utils.bag_of_words(batch,text_field)\n",
    "    yval = batch.label-1\n",
    "predtest = predict(model,xval)\n",
    "print \"acc = %.2f%%\"%(100. * np.mean(predtest == yval.data.numpy()))\n",
    "\n",
    "print time.clock()-timebefore"
   ]
  }
 ],
 "metadata": {
  "kernelspec": {
   "display_name": "Python 2",
   "language": "python",
   "name": "python2"
  },
  "language_info": {
   "codemirror_mode": {
    "name": "ipython",
    "version": 2
   },
   "file_extension": ".py",
   "mimetype": "text/x-python",
   "name": "python",
   "nbconvert_exporter": "python",
   "pygments_lexer": "ipython2",
   "version": "2.7.13"
  }
 },
 "nbformat": 4,
 "nbformat_minor": 1
}
