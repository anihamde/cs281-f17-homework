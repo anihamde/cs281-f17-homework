{
 "cells": [
  {
   "cell_type": "code",
   "execution_count": 10,
   "metadata": {
    "collapsed": true
   },
   "outputs": [],
   "source": [
    "import utils\n",
    "\n",
    "import numpy as np\n",
    "import pandas as pd\n",
    "import torch\n",
    "from torch.autograd import Variable\n",
    "from torch import optim\n",
    "import time\n",
    "import math"
   ]
  },
  {
   "cell_type": "code",
   "execution_count": 11,
   "metadata": {
    "collapsed": true
   },
   "outputs": [],
   "source": [
    "modellist = []"
   ]
  },
  {
   "cell_type": "code",
   "execution_count": 12,
   "metadata": {
    "collapsed": true
   },
   "outputs": [],
   "source": [
    "BS = 1000"
   ]
  },
  {
   "cell_type": "code",
   "execution_count": 13,
   "metadata": {
    "collapsed": false
   },
   "outputs": [
    {
     "name": "stdout",
     "output_type": "stream",
     "text": [
      "Loading Data\n",
      "2\n",
      "1\n"
     ]
    }
   ],
   "source": [
    "train_iter, val_iter, test_iter, text_field = utils.load_imdb(batch_size=BS)"
   ]
  },
  {
   "cell_type": "code",
   "execution_count": 14,
   "metadata": {
    "collapsed": true
   },
   "outputs": [],
   "source": [
    "def logistic_reg_torch(nfeats,nclasses):\n",
    "    model = torch.nn.Sequential()\n",
    "    model.add_module('logistic',torch.nn.Linear(nfeats, nclasses, bias=True))\n",
    "    return model\n",
    "\n",
    "def train(model,loss,optimizer,x,y):\n",
    "    x = Variable(x)\n",
    "    y = Variable(y)\n",
    "\n",
    "    optimizer.zero_grad()\n",
    "\n",
    "    forward_x = model.forward(x)\n",
    "    obj = loss.forward(forward_x,y)\n",
    "\n",
    "    obj.backward()\n",
    "\n",
    "    optimizer.step()\n",
    "\n",
    "    return obj.data[0]\n",
    "\n",
    "def predict(model, x):\n",
    "    # x = Variable(x)\n",
    "    forward_x = model.forward(x)\n",
    "    return forward_x.data.numpy().argmax(axis=1)"
   ]
  },
  {
   "cell_type": "code",
   "execution_count": 15,
   "metadata": {
    "collapsed": false
   },
   "outputs": [
    {
     "name": "stdout",
     "output_type": "stream",
     "text": [
      "TRAINING\n",
      "Epoch 1, cost = 180.054640, acc = 57.10%\n",
      "Validation acc = 55.60%\n",
      "Epoch 2, cost = 89.280216, acc = 49.30%\n",
      "Validation acc = 50.40%\n",
      "Epoch 3, cost = 148.176300, acc = 69.60%\n",
      "Validation acc = 67.40%\n",
      "Epoch 4, cost = 123.677407, acc = 68.40%\n",
      "Validation acc = 65.60%\n",
      "Epoch 5, cost = 132.049227, acc = 62.10%\n",
      "Validation acc = 58.40%\n",
      "Epoch 6, cost = 144.680719, acc = 73.50%\n",
      "Validation acc = 70.30%\n",
      "Epoch 7, cost = 102.090236, acc = 75.80%\n",
      "Validation acc = 72.90%\n",
      "Epoch 8, cost = 67.207338, acc = 45.00%\n",
      "Validation acc = 50.00%\n",
      "Epoch 9, cost = 111.468314, acc = 66.60%\n",
      "Validation acc = 66.90%\n",
      "Epoch 10, cost = 99.322690, acc = 72.50%\n",
      "Validation acc = 73.10%\n",
      "Epoch 11, cost = 49.385196, acc = 77.50%\n",
      "Validation acc = 77.50%\n",
      "Epoch 12, cost = 114.886445, acc = 77.90%\n",
      "Validation acc = 75.10%\n",
      "Epoch 13, cost = 75.806565, acc = 80.80%\n",
      "Validation acc = 78.00%\n",
      "Epoch 14, cost = 30.346605, acc = 76.90%\n",
      "Validation acc = 77.50%\n",
      "Epoch 15, cost = 89.738757, acc = 78.50%\n",
      "Validation acc = 78.40%\n",
      "Epoch 16, cost = 44.680257, acc = 51.40%\n",
      "Validation acc = 52.00%\n",
      "Epoch 17, cost = 128.892643, acc = 81.60%\n",
      "Validation acc = 78.50%\n",
      "Epoch 18, cost = 68.293561, acc = 82.70%\n",
      "Validation acc = 78.50%\n",
      "Epoch 19, cost = 32.377157, acc = 64.70%\n",
      "Validation acc = 67.60%\n",
      "Epoch 20, cost = 89.674176, acc = 83.10%\n",
      "Validation acc = 78.90%\n",
      "Epoch 21, cost = 24.032160, acc = 75.10%\n",
      "Validation acc = 75.80%\n",
      "Epoch 22, cost = 14.496604, acc = 80.90%\n",
      "Validation acc = 80.60%\n",
      "Epoch 23, cost = 63.020741, acc = 83.40%\n",
      "Validation acc = 80.20%\n",
      "Epoch 24, cost = 42.179337, acc = 83.50%\n",
      "Validation acc = 81.50%\n",
      "Epoch 25, cost = 67.816388, acc = 82.40%\n",
      "Validation acc = 80.40%\n",
      "Epoch 26, cost = 11.498091, acc = 84.90%\n",
      "Validation acc = 82.10%\n",
      "Epoch 27, cost = 23.447966, acc = 57.80%\n",
      "Validation acc = 56.40%\n",
      "Epoch 28, cost = 24.660838, acc = 83.80%\n",
      "Validation acc = 82.10%\n",
      "Epoch 29, cost = 47.937911, acc = 82.00%\n",
      "Validation acc = 82.50%\n",
      "Epoch 30, cost = 21.946373, acc = 81.00%\n",
      "Validation acc = 81.60%\n",
      "1897.799363\n"
     ]
    }
   ],
   "source": [
    "for eta in [0.05]:#[0,0.001,0.01,0.05,0.1,0.2,1]:\n",
    "    model = logistic_reg_torch(245703,2)\n",
    "    optimizer = optim.SGD(model.parameters(),lr=eta)\n",
    "    loss = torch.nn.CrossEntropyLoss()\n",
    "\n",
    "    timebefore = time.clock()\n",
    "\n",
    "    print \"TRAINING\"\n",
    "\n",
    "    for k in range(0,30):\n",
    "        cost = 0.\n",
    "        for batch in train_iter:\n",
    "            xval = utils.bag_of_words(batch,text_field)\n",
    "            yval = batch.label-1\n",
    "            cost += train(model,loss,optimizer,xval.data,yval.data)\n",
    "        predtrain = predict(model,xval)\n",
    "        print \"Epoch %d, cost = %f, acc = %.2f%%\"%(k + 1, cost, 100. * np.mean(predtrain == yval.data.numpy()))\n",
    "\n",
    "        # Validation\n",
    "\n",
    "        for batch in val_iter:\n",
    "            xval = utils.bag_of_words(batch,text_field)\n",
    "            yval1 = batch.label-1\n",
    "        predval = predict(model,xval)\n",
    "        print \"Validation acc = %.2f%%\"%(100. * np.mean(predval == yval1.data.numpy()))\n",
    "\n",
    "    print time.clock()-timebefore\n",
    "    \n",
    "    modelparams = (list(model.parameters())[0])\n",
    "\n",
    "    modellist.append([eta,len(modelparams[modelparams<0.0001])/(len(modelparams)+0.0),model])"
   ]
  },
  {
   "cell_type": "code",
   "execution_count": 86,
   "metadata": {
    "collapsed": false
   },
   "outputs": [
    {
     "name": "stdout",
     "output_type": "stream",
     "text": [
      "TEST\n",
      "acc = 52.30%\n",
      "3.362704\n",
      "TEST\n",
      "acc = 71.70%\n",
      "3.359324\n",
      "TEST\n",
      "acc = 81.50%\n",
      "3.349769\n",
      "TEST\n",
      "acc = 84.20%\n",
      "3.379448\n",
      "TEST\n",
      "acc = 81.50%\n",
      "3.241962\n",
      "TEST\n",
      "acc = 67.60%\n",
      "3.010442\n",
      "TEST\n",
      "acc = 59.60%\n",
      "2.960639\n"
     ]
    }
   ],
   "source": [
    "for i in range(0,len(modellist)):\n",
    "    model = modellist[i][2]\n",
    "    timebefore = time.clock()\n",
    "\n",
    "    print \"TEST\"\n",
    "\n",
    "    for batch in test_iter:\n",
    "        xval = utils.bag_of_words(batch,text_field)\n",
    "        yval = batch.label-1\n",
    "    predtest = predict(model,xval)\n",
    "    print \"acc = %.2f%%\"%(100. * np.mean(predtest == yval.data.numpy()))\n",
    "\n",
    "    print time.clock()-timebefore"
   ]
  },
  {
   "cell_type": "code",
   "execution_count": 85,
   "metadata": {
    "collapsed": false
   },
   "outputs": [
    {
     "name": "stdout",
     "output_type": "stream",
     "text": [
      "0\n",
      "0.001\n",
      "0.01\n",
      "0.05\n",
      "0.1\n",
      "0.2\n",
      "1\n"
     ]
    }
   ],
   "source": [
    "for i in range(0,len(modellist)):\n",
    "    print modellist[i][0]"
   ]
  },
  {
   "cell_type": "code",
   "execution_count": 83,
   "metadata": {
    "collapsed": false
   },
   "outputs": [
    {
     "name": "stdout",
     "output_type": "stream",
     "text": [
      "0.524969170096\n",
      "0.525563383434\n",
      "0.523713589171\n",
      "0.522333874637\n",
      "0.519401472509\n",
      "0.511776412986\n",
      "0.500862830328\n"
     ]
    }
   ],
   "source": [
    "for i in range(0,len(modellist)):\n",
    "    print modellist[i][1]/(245703)"
   ]
  },
  {
   "cell_type": "code",
   "execution_count": 82,
   "metadata": {
    "collapsed": false
   },
   "outputs": [
    {
     "data": {
      "text/plain": [
       "7"
      ]
     },
     "execution_count": 82,
     "metadata": {},
     "output_type": "execute_result"
    }
   ],
   "source": [
    "len(modellist)"
   ]
  },
  {
   "cell_type": "code",
   "execution_count": 80,
   "metadata": {
    "collapsed": false
   },
   "outputs": [
    {
     "data": {
      "text/plain": [
       "0.5237135891706654"
      ]
     },
     "execution_count": 80,
     "metadata": {},
     "output_type": "execute_result"
    }
   ],
   "source": [
    "modellist[2][1]/245703"
   ]
  },
  {
   "cell_type": "code",
   "execution_count": 29,
   "metadata": {
    "collapsed": false
   },
   "outputs": [],
   "source": [
    "params05=list(modellist[0][2].parameters())"
   ]
  },
  {
   "cell_type": "code",
   "execution_count": 34,
   "metadata": {
    "collapsed": false
   },
   "outputs": [],
   "source": [
    "params05=params05[0].data.numpy()"
   ]
  },
  {
   "cell_type": "code",
   "execution_count": 41,
   "metadata": {
    "collapsed": false
   },
   "outputs": [],
   "source": [
    "params05_0 = params05[0]\n",
    "params05_1 = params05[1]"
   ]
  },
  {
   "cell_type": "code",
   "execution_count": 60,
   "metadata": {
    "collapsed": false
   },
   "outputs": [
    {
     "name": "stdout",
     "output_type": "stream",
     "text": [
      "max great\n",
      "min bad\n",
      "max best\n",
      "min worst\n",
      "max well\n",
      "min nothing\n",
      "max love\n",
      "min no\n",
      "max excellent\n",
      "min waste\n"
     ]
    }
   ],
   "source": [
    "for i in range(0,5):\n",
    "    maxval = (np.argmax(params05_1))\n",
    "    minval = (np.argmin(params05_1))\n",
    "    \n",
    "    print \"max\",text_field.vocab.itos[maxval]\n",
    "    print \"min\",text_field.vocab.itos[minval]\n",
    "    \n",
    "    params05_1[maxval] = 0\n",
    "    params05_1[minval] = 0"
   ]
  },
  {
   "cell_type": "code",
   "execution_count": null,
   "metadata": {
    "collapsed": true
   },
   "outputs": [],
   "source": []
  },
  {
   "cell_type": "code",
   "execution_count": null,
   "metadata": {
    "collapsed": false
   },
   "outputs": [],
   "source": []
  },
  {
   "cell_type": "code",
   "execution_count": null,
   "metadata": {
    "collapsed": true
   },
   "outputs": [],
   "source": []
  }
 ],
 "metadata": {
  "anaconda-cloud": {},
  "kernelspec": {
   "display_name": "Python 2",
   "language": "python",
   "name": "python2"
  },
  "language_info": {
   "codemirror_mode": {
    "name": "ipython",
    "version": 2
   },
   "file_extension": ".py",
   "mimetype": "text/x-python",
   "name": "python",
   "nbconvert_exporter": "python",
   "pygments_lexer": "ipython2",
   "version": "2.7.13"
  }
 },
 "nbformat": 4,
 "nbformat_minor": 1
}
