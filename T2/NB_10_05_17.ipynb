{
 "cells": [
  {
   "cell_type": "code",
   "execution_count": 59,
   "metadata": {
    "collapsed": true
   },
   "outputs": [],
   "source": [
    "import numpy as np\n",
    "import utils\n",
    "import pandas as pd\n",
    "import time\n",
    "import math"
   ]
  },
  {
   "cell_type": "code",
   "execution_count": 2,
   "metadata": {
    "collapsed": true
   },
   "outputs": [],
   "source": [
    "timebefore = time.clock()"
   ]
  },
  {
   "cell_type": "code",
   "execution_count": 61,
   "metadata": {
    "collapsed": true
   },
   "outputs": [],
   "source": [
    "indic = lambda x: 1 if x > 0 else 0\n",
    "\n",
    "def probclass(listv,powerlist):\n",
    "\tp_arr = np.array(map(math.log,listv))\n",
    "\tpower_arr = np.array(powerlist)\n",
    "\n",
    "\treturn np.dot(p_arr,power_arr)"
   ]
  },
  {
   "cell_type": "code",
   "execution_count": 4,
   "metadata": {
    "collapsed": true
   },
   "outputs": [],
   "source": [
    "alpha = [1,0.8,0.6,0.5,0.4,0.3,0.2,0.1,0.0]\n",
    "beta = [1,0.8,0.6,0.5,0.4,0.3,0.2,0.1,0.0]\n",
    "phat_MLE = pd.DataFrame(np.zeros([2,245703]))\n",
    "BS = 1000"
   ]
  },
  {
   "cell_type": "code",
   "execution_count": 5,
   "metadata": {
    "collapsed": false
   },
   "outputs": [
    {
     "name": "stdout",
     "output_type": "stream",
     "text": [
      "Loading Data\n",
      "2\n",
      "1\n",
      "It took 34.46106 seconds to load the data!\n"
     ]
    }
   ],
   "source": [
    "train_iter, val_iter, test_iter, text_field = utils.load_imdb(batch_size=BS)\n",
    "\n",
    "print \"It took\",time.clock()-timebefore,\"seconds to load the data!\""
   ]
  },
  {
   "cell_type": "code",
   "execution_count": 13,
   "metadata": {
    "collapsed": false
   },
   "outputs": [
    {
     "name": "stdout",
     "output_type": "stream",
     "text": [
      "hi\n",
      "hi\n",
      "hi\n",
      "hi\n",
      "hi\n",
      "hi\n",
      "hi\n",
      "hi\n",
      "hi\n",
      "hi\n",
      "hi\n",
      "hi\n",
      "hi\n",
      "hi\n",
      "hi\n",
      "hi\n",
      "hi\n",
      "hi\n",
      "hi\n",
      "hi\n",
      "hi\n",
      "hi\n",
      "hi\n",
      "hi\n",
      "It took 370.639851 seconds to train Naive Bayes!\n"
     ]
    }
   ],
   "source": [
    "# Training\n",
    "\n",
    "N = 0\n",
    "phat_MLE_fin = phat_MLE\n",
    "for batch in train_iter:\n",
    "\tx = utils.bag_of_words(batch,text_field)\n",
    "\ty = batch.label - 1\n",
    "\ty = y.data.numpy()\n",
    "\t\n",
    "\txindic = np.sign(x.data.numpy())# map(indic,x.data.numpy()[i])\n",
    "\tN += np.sum(xindic)\n",
    "\tind = y\n",
    "\tfor rew in range(0,len(ind)):\n",
    "\t\tindval = int(ind[rew])\n",
    "\t\tphat_MLE.iloc[indval] = phat_MLE.iloc[indval] + xindic[rew]\n",
    "\n",
    "print \"It took\",time.clock()-timebefore,\"seconds to train Naive Bayes!\""
   ]
  },
  {
   "cell_type": "code",
   "execution_count": 51,
   "metadata": {
    "collapsed": false
   },
   "outputs": [
    {
     "name": "stdout",
     "output_type": "stream",
     "text": [
      "720.905873\n"
     ]
    },
    {
     "name": "stderr",
     "output_type": "stream",
     "text": [
      "/usr/local/lib/python2.7/site-packages/ipykernel_launcher.py:23: RuntimeWarning: divide by zero encountered in log\n",
      "/usr/local/lib/python2.7/site-packages/ipykernel_launcher.py:24: RuntimeWarning: divide by zero encountered in log\n"
     ]
    },
    {
     "name": "stdout",
     "output_type": "stream",
     "text": [
      "804.42321\n"
     ]
    }
   ],
   "source": [
    "# Validation\n",
    "\n",
    "correct = [0.0]*len(alpha)\n",
    "incorrect = [0.0]*len(alpha)\n",
    "\n",
    "phat_MLE_fin = [0]*len(alpha)\n",
    "\n",
    "for j in range(0,len(alpha)):\n",
    "\tphat_MLE_fin[j] = (phat_MLE+alpha[j])/(N+alpha[j]+beta[j]+0.0)\n",
    "\tphat_MLE_fin[j].to_csv('NB_Beta_Bern_%s.csv'%alpha[j])\n",
    "\n",
    "for batch in val_iter:\n",
    "\tprint time.clock()\n",
    "\tx = utils.bag_of_words(batch,text_field)\n",
    "\ty = batch.label-1\n",
    "\ty = y.data.numpy()\n",
    "\n",
    "\tfor j in range(0,len(alpha)):\n",
    "\t\txindc = np.sign(x.data.numpy())\n",
    "\t\tpclass0 = []\n",
    "\t\tpclass1 = []\n",
    "\t\tfor i in range(0,len(xindic)):\n",
    "\t\t\tpclass0.append(np.dot(xindic[i],np.log(phat_MLE_fin[j].iloc[0])))\n",
    "\t\t\tpclass1.append(np.dot(xindic[i],np.log(phat_MLE_fin[j].iloc[1])))\n",
    "\n",
    "\t\tprobs = np.array(pclass1) - np.array(pclass0)\n",
    "\t\tcompars = map(indic,probs)\n",
    "\n",
    "\t\tfor k in range(0,len(compars)):\n",
    "\t\t\tif y[k] == compars[k]:\n",
    "\t\t\t\tcorrect[j] += 1\n",
    "\t\t\telse:\n",
    "\t\t\t\tincorrect[j] += 1\n",
    "\tprint time.clock()"
   ]
  },
  {
   "cell_type": "code",
   "execution_count": 52,
   "metadata": {
    "collapsed": false
   },
   "outputs": [
    {
     "name": "stdout",
     "output_type": "stream",
     "text": [
      "VALIDATION RESULTS*********************************\n",
      "For alpha = beta = 1, there were 475.0 correct predictions and 525.0 incorrect predictions, meaning 0.475 classification accuracy.\n",
      "For alpha = beta = 0.8, there were 473.0 correct predictions and 527.0 incorrect predictions, meaning 0.473 classification accuracy.\n",
      "For alpha = beta = 0.6, there were 472.0 correct predictions and 528.0 incorrect predictions, meaning 0.472 classification accuracy.\n",
      "For alpha = beta = 0.5, there were 474.0 correct predictions and 526.0 incorrect predictions, meaning 0.474 classification accuracy.\n",
      "For alpha = beta = 0.4, there were 475.0 correct predictions and 525.0 incorrect predictions, meaning 0.475 classification accuracy.\n",
      "For alpha = beta = 0.3, there were 475.0 correct predictions and 525.0 incorrect predictions, meaning 0.475 classification accuracy.\n",
      "For alpha = beta = 0.2, there were 479.0 correct predictions and 521.0 incorrect predictions, meaning 0.479 classification accuracy.\n",
      "For alpha = beta = 0.1, there were 481.0 correct predictions and 519.0 incorrect predictions, meaning 0.481 classification accuracy.\n",
      "For alpha = beta = 0.0, there were 500.0 correct predictions and 500.0 incorrect predictions, meaning 0.5 classification accuracy.\n",
      "It took 802.607087 seconds to validate Naive Bayes!\n"
     ]
    }
   ],
   "source": [
    "print \"VALIDATION RESULTS*********************************\"\n",
    "for j in range(0,len(alpha)):\n",
    "\tprint \"For alpha = beta = %s, there were %s correct predictions and %s incorrect predictions, meaning %s classification accuracy.\"%(alpha[j],correct[j],incorrect[j],(correct[j])/(correct[j]+incorrect[j]))\n",
    "\n",
    "print \"It took\",time.clock()-timebefore,\"seconds to validate Naive Bayes!\""
   ]
  },
  {
   "cell_type": "code",
   "execution_count": 55,
   "metadata": {
    "collapsed": false
   },
   "outputs": [
    {
     "name": "stdout",
     "output_type": "stream",
     "text": [
      "940.074521\n"
     ]
    },
    {
     "name": "stderr",
     "output_type": "stream",
     "text": [
      "/usr/local/lib/python2.7/site-packages/ipykernel_launcher.py:23: RuntimeWarning: divide by zero encountered in log\n",
      "/usr/local/lib/python2.7/site-packages/ipykernel_launcher.py:24: RuntimeWarning: divide by zero encountered in log\n"
     ]
    },
    {
     "name": "stdout",
     "output_type": "stream",
     "text": [
      "1022.051157\n"
     ]
    }
   ],
   "source": [
    "# Test\n",
    "\n",
    "correct = [0.0]*len(alpha)\n",
    "incorrect = [0.0]*len(alpha)\n",
    "\n",
    "phat_MLE_fin = [0]*len(alpha)\n",
    "\n",
    "for j in range(0,len(alpha)):\n",
    "\tphat_MLE_fin[j] = (phat_MLE+alpha[j])/(N+alpha[j]+beta[j]+0.0)\n",
    "\tphat_MLE_fin[j].to_csv('NB_Beta_Bern_%s.csv'%alpha[j])\n",
    "\n",
    "for batch in test_iter:\n",
    "\tprint time.clock()\n",
    "\tx = utils.bag_of_words(batch,text_field)\n",
    "\ty = batch.label-1\n",
    "\ty = y.data.numpy()\n",
    "\n",
    "\tfor j in range(0,len(alpha)):\n",
    "\t\txindc = np.sign(x.data.numpy())\n",
    "\t\tpclass0 = []\n",
    "\t\tpclass1 = []\n",
    "\t\tfor i in range(0,len(xindic)):\n",
    "\t\t\tpclass0.append(np.dot(xindic[i],np.log(phat_MLE_fin[j].iloc[0])))\n",
    "\t\t\tpclass1.append(np.dot(xindic[i],np.log(phat_MLE_fin[j].iloc[1])))\n",
    "\n",
    "\t\tprobs = np.array(pclass1) - np.array(pclass0)\n",
    "\t\tcompars = map(indic,probs)\n",
    "\n",
    "\t\tfor k in range(0,len(compars)):\n",
    "\t\t\tif y[k] == compars[k]:\n",
    "\t\t\t\tcorrect[j] += 1\n",
    "\t\t\telse:\n",
    "\t\t\t\tincorrect[j] += 1\n",
    "\tprint time.clock()"
   ]
  },
  {
   "cell_type": "code",
   "execution_count": 56,
   "metadata": {
    "collapsed": false
   },
   "outputs": [
    {
     "name": "stdout",
     "output_type": "stream",
     "text": [
      "TEST RESULTS*********************************\n",
      "For alpha = beta = 1, there were 497.0 correct predictions and 503.0 incorrect predictions, meaning 0.497 classification accuracy.\n",
      "For alpha = beta = 0.8, there were 497.0 correct predictions and 503.0 incorrect predictions, meaning 0.497 classification accuracy.\n",
      "For alpha = beta = 0.6, there were 498.0 correct predictions and 502.0 incorrect predictions, meaning 0.498 classification accuracy.\n",
      "For alpha = beta = 0.5, there were 496.0 correct predictions and 504.0 incorrect predictions, meaning 0.496 classification accuracy.\n",
      "For alpha = beta = 0.4, there were 497.0 correct predictions and 503.0 incorrect predictions, meaning 0.497 classification accuracy.\n",
      "For alpha = beta = 0.3, there were 497.0 correct predictions and 503.0 incorrect predictions, meaning 0.497 classification accuracy.\n",
      "For alpha = beta = 0.2, there were 499.0 correct predictions and 501.0 incorrect predictions, meaning 0.499 classification accuracy.\n",
      "For alpha = beta = 0.1, there were 501.0 correct predictions and 499.0 incorrect predictions, meaning 0.501 classification accuracy.\n",
      "For alpha = beta = 0.0, there were 500.0 correct predictions and 500.0 incorrect predictions, meaning 0.5 classification accuracy.\n",
      "It took 1020.231525 seconds to test Naive Bayes!\n"
     ]
    }
   ],
   "source": [
    "print \"TEST RESULTS*********************************\"\n",
    "for j in range(0,len(alpha)):\n",
    "\tprint \"For alpha = beta = %s, there were %s correct predictions and %s incorrect predictions, meaning %s classification accuracy.\"%(alpha[j],correct[j],incorrect[j],correct[j]/(correct[j]+incorrect[j]))\n",
    "\n",
    "print \"It took\",time.clock()-timebefore,\"seconds to test Naive Bayes!\""
   ]
  },
  {
   "cell_type": "code",
   "execution_count": null,
   "metadata": {
    "collapsed": false
   },
   "outputs": [],
   "source": []
  },
  {
   "cell_type": "code",
   "execution_count": null,
   "metadata": {
    "collapsed": true
   },
   "outputs": [],
   "source": []
  },
  {
   "cell_type": "code",
   "execution_count": null,
   "metadata": {
    "collapsed": true
   },
   "outputs": [],
   "source": []
  },
  {
   "cell_type": "code",
   "execution_count": null,
   "metadata": {
    "collapsed": true
   },
   "outputs": [],
   "source": []
  },
  {
   "cell_type": "code",
   "execution_count": null,
   "metadata": {
    "collapsed": true
   },
   "outputs": [],
   "source": [
    "phat_MLE = pd.DataFrame(np.zeros([2,245703]))\n",
    "BS = 1000"
   ]
  },
  {
   "cell_type": "code",
   "execution_count": 57,
   "metadata": {
    "collapsed": false
   },
   "outputs": [
    {
     "name": "stdout",
     "output_type": "stream",
     "text": [
      "hi\n",
      "hi\n",
      "hi\n",
      "hi\n",
      "hi\n",
      "hi\n",
      "hi\n",
      "hi\n",
      "hi\n",
      "hi\n",
      "hi\n",
      "hi\n",
      "hi\n",
      "hi\n",
      "hi\n",
      "hi\n",
      "hi\n",
      "hi\n",
      "hi\n",
      "hi\n",
      "hi\n",
      "hi\n",
      "hi\n",
      "hi\n",
      "It took 1094.91196 seconds to train Naive Bayes!\n"
     ]
    }
   ],
   "source": [
    "N = 0\n",
    "for batch in train_iter:\n",
    "\tprint \"hi\"\n",
    "\tx = utils.bag_of_words(batch,text_field)\n",
    "\ty = batch.label - 1\n",
    "\ty = y.data.numpy()\n",
    "\tN += np.sum(x.data.numpy())\n",
    "\n",
    "\txdata = x.data.numpy()\n",
    "\txdata = [xdata[y==k] for k in [0,1]]\n",
    "\txdata[0] = np.sum(xdata[0],axis=0)\n",
    "\txdata[1] = np.sum(xdata[1],axis=0)\n",
    "\n",
    "\tphat_MLE.iloc[0] = phat_MLE.iloc[0] + xdata[0]\n",
    "\tphat_MLE.iloc[1] = phat_MLE.iloc[1] + xdata[1]\n",
    "\n",
    "print \"It took\",time.clock()-timebefore,\"seconds to train Naive Bayes!\""
   ]
  },
  {
   "cell_type": "code",
   "execution_count": 62,
   "metadata": {
    "collapsed": false
   },
   "outputs": [
    {
     "name": "stdout",
     "output_type": "stream",
     "text": [
      "0\n",
      "1\n",
      "2\n",
      "3\n",
      "4\n",
      "5\n",
      "6\n",
      "7\n",
      "8\n"
     ]
    },
    {
     "ename": "ValueError",
     "evalue": "math domain error",
     "output_type": "error",
     "traceback": [
      "\u001b[0;31m---------------------------------------------------------------------------\u001b[0m",
      "\u001b[0;31mValueError\u001b[0m                                Traceback (most recent call last)",
      "\u001b[0;32m<ipython-input-62-fcc3bf55f42b>\u001b[0m in \u001b[0;36m<module>\u001b[0;34m()\u001b[0m\n\u001b[1;32m     18\u001b[0m                 \u001b[0;32mprint\u001b[0m \u001b[0mj\u001b[0m\u001b[0;34m\u001b[0m\u001b[0m\n\u001b[1;32m     19\u001b[0m                 \u001b[0;32mfor\u001b[0m \u001b[0mi\u001b[0m \u001b[0;32min\u001b[0m \u001b[0mrange\u001b[0m\u001b[0;34m(\u001b[0m\u001b[0;36m0\u001b[0m\u001b[0;34m,\u001b[0m\u001b[0mlen\u001b[0m\u001b[0;34m(\u001b[0m\u001b[0mx\u001b[0m\u001b[0;34m.\u001b[0m\u001b[0mdata\u001b[0m\u001b[0;34m.\u001b[0m\u001b[0mnumpy\u001b[0m\u001b[0;34m(\u001b[0m\u001b[0;34m)\u001b[0m\u001b[0;34m)\u001b[0m\u001b[0;34m)\u001b[0m\u001b[0;34m:\u001b[0m\u001b[0;34m\u001b[0m\u001b[0m\n\u001b[0;32m---> 20\u001b[0;31m                         \u001b[0mpclass0\u001b[0m \u001b[0;34m=\u001b[0m \u001b[0mprobclass\u001b[0m\u001b[0;34m(\u001b[0m\u001b[0mphat_MLE_fin\u001b[0m\u001b[0;34m[\u001b[0m\u001b[0mj\u001b[0m\u001b[0;34m]\u001b[0m\u001b[0;34m.\u001b[0m\u001b[0miloc\u001b[0m\u001b[0;34m[\u001b[0m\u001b[0;36m0\u001b[0m\u001b[0;34m]\u001b[0m\u001b[0;34m,\u001b[0m\u001b[0mx\u001b[0m\u001b[0;34m.\u001b[0m\u001b[0mdata\u001b[0m\u001b[0;34m.\u001b[0m\u001b[0mnumpy\u001b[0m\u001b[0;34m(\u001b[0m\u001b[0;34m)\u001b[0m\u001b[0;34m[\u001b[0m\u001b[0mi\u001b[0m\u001b[0;34m]\u001b[0m\u001b[0;34m)\u001b[0m\u001b[0;34m\u001b[0m\u001b[0m\n\u001b[0m\u001b[1;32m     21\u001b[0m                         \u001b[0mpclass1\u001b[0m \u001b[0;34m=\u001b[0m \u001b[0mprobclass\u001b[0m\u001b[0;34m(\u001b[0m\u001b[0mphat_MLE_fin\u001b[0m\u001b[0;34m[\u001b[0m\u001b[0mj\u001b[0m\u001b[0;34m]\u001b[0m\u001b[0;34m.\u001b[0m\u001b[0miloc\u001b[0m\u001b[0;34m[\u001b[0m\u001b[0;36m1\u001b[0m\u001b[0;34m]\u001b[0m\u001b[0;34m,\u001b[0m\u001b[0mx\u001b[0m\u001b[0;34m.\u001b[0m\u001b[0mdata\u001b[0m\u001b[0;34m.\u001b[0m\u001b[0mnumpy\u001b[0m\u001b[0;34m(\u001b[0m\u001b[0;34m)\u001b[0m\u001b[0;34m[\u001b[0m\u001b[0mi\u001b[0m\u001b[0;34m]\u001b[0m\u001b[0;34m)\u001b[0m\u001b[0;34m\u001b[0m\u001b[0m\n\u001b[1;32m     22\u001b[0m \u001b[0;34m\u001b[0m\u001b[0m\n",
      "\u001b[0;32m<ipython-input-61-a2e1e62df112>\u001b[0m in \u001b[0;36mprobclass\u001b[0;34m(listv, powerlist)\u001b[0m\n\u001b[1;32m      2\u001b[0m \u001b[0;34m\u001b[0m\u001b[0m\n\u001b[1;32m      3\u001b[0m \u001b[0;32mdef\u001b[0m \u001b[0mprobclass\u001b[0m\u001b[0;34m(\u001b[0m\u001b[0mlistv\u001b[0m\u001b[0;34m,\u001b[0m\u001b[0mpowerlist\u001b[0m\u001b[0;34m)\u001b[0m\u001b[0;34m:\u001b[0m\u001b[0;34m\u001b[0m\u001b[0m\n\u001b[0;32m----> 4\u001b[0;31m         \u001b[0mp_arr\u001b[0m \u001b[0;34m=\u001b[0m \u001b[0mnp\u001b[0m\u001b[0;34m.\u001b[0m\u001b[0marray\u001b[0m\u001b[0;34m(\u001b[0m\u001b[0mmap\u001b[0m\u001b[0;34m(\u001b[0m\u001b[0mmath\u001b[0m\u001b[0;34m.\u001b[0m\u001b[0mlog\u001b[0m\u001b[0;34m,\u001b[0m\u001b[0mlistv\u001b[0m\u001b[0;34m)\u001b[0m\u001b[0;34m)\u001b[0m\u001b[0;34m\u001b[0m\u001b[0m\n\u001b[0m\u001b[1;32m      5\u001b[0m         \u001b[0mpower_arr\u001b[0m \u001b[0;34m=\u001b[0m \u001b[0mnp\u001b[0m\u001b[0;34m.\u001b[0m\u001b[0marray\u001b[0m\u001b[0;34m(\u001b[0m\u001b[0mpowerlist\u001b[0m\u001b[0;34m)\u001b[0m\u001b[0;34m\u001b[0m\u001b[0m\n\u001b[1;32m      6\u001b[0m \u001b[0;34m\u001b[0m\u001b[0m\n",
      "\u001b[0;31mValueError\u001b[0m: math domain error"
     ]
    }
   ],
   "source": [
    "# Validation\n",
    "\n",
    "correct = [0.0]*len(alpha)\n",
    "incorrect = [0.0]*len(alpha)\n",
    "\n",
    "phat_MLE_fin = [0]*len(alpha)\n",
    "\n",
    "for j in range(0,len(alpha)):\n",
    "\tphat_MLE_fin[j] = (phat_MLE+alpha[j])/(N+alpha[j]+0.0)\n",
    "\tphat_MLE_fin[j].to_csv('NB_Beta_Bern_%s.csv'%alpha[j])\n",
    "\n",
    "for batch in val_iter:\n",
    "\tx = utils.bag_of_words(batch,text_field)\n",
    "\ty = batch.label-1\n",
    "\ty = y.data.numpy()\n",
    "\n",
    "\tfor j in range(0,len(alpha)):\n",
    "\t\tprint j\n",
    "\t\tfor i in range(0,len(x.data.numpy())):\n",
    "\t\t\tpclass0 = probclass(phat_MLE_fin[j].iloc[0],x.data.numpy()[i])\n",
    "\t\t\tpclass1 = probclass(phat_MLE_fin[j].iloc[1],x.data.numpy()[i])\n",
    "\n",
    "\t\t\tif np.argmax(np.array([pclass0,pclass1])) == int(y[i]):\n",
    "\t\t\t\tcorrect[j] += 1\n",
    "\t\t\telse:\n",
    "\t\t\t\tincorrect[j] += 1"
   ]
  },
  {
   "cell_type": "code",
   "execution_count": 63,
   "metadata": {
    "collapsed": false
   },
   "outputs": [
    {
     "name": "stdout",
     "output_type": "stream",
     "text": [
      "VALIDATION RESULTS*********************************\n",
      "For alpha = 1, there were 868.0 correct predictions and 132.0 incorrect predictions, meaning 0.868 classification accuracy.\n",
      "For alpha = 0.8, there were 869.0 correct predictions and 131.0 incorrect predictions, meaning 0.869 classification accuracy.\n",
      "For alpha = 0.6, there were 868.0 correct predictions and 132.0 incorrect predictions, meaning 0.868 classification accuracy.\n",
      "For alpha = 0.5, there were 867.0 correct predictions and 133.0 incorrect predictions, meaning 0.867 classification accuracy.\n",
      "For alpha = 0.4, there were 866.0 correct predictions and 134.0 incorrect predictions, meaning 0.866 classification accuracy.\n",
      "For alpha = 0.3, there were 865.0 correct predictions and 135.0 incorrect predictions, meaning 0.865 classification accuracy.\n",
      "For alpha = 0.2, there were 865.0 correct predictions and 135.0 incorrect predictions, meaning 0.865 classification accuracy.\n",
      "For alpha = 0.1, there were 866.0 correct predictions and 134.0 incorrect predictions, meaning 0.866 classification accuracy.\n"
     ]
    },
    {
     "ename": "ZeroDivisionError",
     "evalue": "float division by zero",
     "output_type": "error",
     "traceback": [
      "\u001b[0;31m---------------------------------------------------------------------------\u001b[0m",
      "\u001b[0;31mZeroDivisionError\u001b[0m                         Traceback (most recent call last)",
      "\u001b[0;32m<ipython-input-63-69dd2d46aec5>\u001b[0m in \u001b[0;36m<module>\u001b[0;34m()\u001b[0m\n\u001b[1;32m      1\u001b[0m \u001b[0;32mprint\u001b[0m \u001b[0;34m\"VALIDATION RESULTS*********************************\"\u001b[0m\u001b[0;34m\u001b[0m\u001b[0m\n\u001b[1;32m      2\u001b[0m \u001b[0;32mfor\u001b[0m \u001b[0mj\u001b[0m \u001b[0;32min\u001b[0m \u001b[0mrange\u001b[0m\u001b[0;34m(\u001b[0m\u001b[0;36m0\u001b[0m\u001b[0;34m,\u001b[0m\u001b[0mlen\u001b[0m\u001b[0;34m(\u001b[0m\u001b[0malpha\u001b[0m\u001b[0;34m)\u001b[0m\u001b[0;34m)\u001b[0m\u001b[0;34m:\u001b[0m\u001b[0;34m\u001b[0m\u001b[0m\n\u001b[0;32m----> 3\u001b[0;31m         \u001b[0;32mprint\u001b[0m \u001b[0;34m\"For alpha = %s, there were %s correct predictions and %s incorrect predictions, meaning %s classification accuracy.\"\u001b[0m\u001b[0;34m%\u001b[0m\u001b[0;34m(\u001b[0m\u001b[0malpha\u001b[0m\u001b[0;34m[\u001b[0m\u001b[0mj\u001b[0m\u001b[0;34m]\u001b[0m\u001b[0;34m,\u001b[0m\u001b[0mcorrect\u001b[0m\u001b[0;34m[\u001b[0m\u001b[0mj\u001b[0m\u001b[0;34m]\u001b[0m\u001b[0;34m,\u001b[0m\u001b[0mincorrect\u001b[0m\u001b[0;34m[\u001b[0m\u001b[0mj\u001b[0m\u001b[0;34m]\u001b[0m\u001b[0;34m,\u001b[0m\u001b[0mcorrect\u001b[0m\u001b[0;34m[\u001b[0m\u001b[0mj\u001b[0m\u001b[0;34m]\u001b[0m\u001b[0;34m/\u001b[0m\u001b[0;34m(\u001b[0m\u001b[0mcorrect\u001b[0m\u001b[0;34m[\u001b[0m\u001b[0mj\u001b[0m\u001b[0;34m]\u001b[0m\u001b[0;34m+\u001b[0m\u001b[0mincorrect\u001b[0m\u001b[0;34m[\u001b[0m\u001b[0mj\u001b[0m\u001b[0;34m]\u001b[0m\u001b[0;34m)\u001b[0m\u001b[0;34m)\u001b[0m\u001b[0;34m\u001b[0m\u001b[0m\n\u001b[0m\u001b[1;32m      4\u001b[0m \u001b[0;34m\u001b[0m\u001b[0m\n\u001b[1;32m      5\u001b[0m \u001b[0;32mprint\u001b[0m \u001b[0;34m\"It took\"\u001b[0m\u001b[0;34m,\u001b[0m\u001b[0mtime\u001b[0m\u001b[0;34m.\u001b[0m\u001b[0mclock\u001b[0m\u001b[0;34m(\u001b[0m\u001b[0;34m)\u001b[0m\u001b[0;34m-\u001b[0m\u001b[0mtimebefore\u001b[0m\u001b[0;34m,\u001b[0m\u001b[0;34m\"seconds to validate Naive Bayes!\"\u001b[0m\u001b[0;34m\u001b[0m\u001b[0m\n",
      "\u001b[0;31mZeroDivisionError\u001b[0m: float division by zero"
     ]
    }
   ],
   "source": [
    "print \"VALIDATION RESULTS*********************************\"\n",
    "for j in range(0,len(alpha)):\n",
    "\tprint \"For alpha = %s, there were %s correct predictions and %s incorrect predictions, meaning %s classification accuracy.\"%(alpha[j],correct[j],incorrect[j],correct[j]/(correct[j]+incorrect[j]))\n",
    "\n",
    "print \"It took\",time.clock()-timebefore,\"seconds to validate Naive Bayes!\""
   ]
  },
  {
   "cell_type": "code",
   "execution_count": 65,
   "metadata": {
    "collapsed": false
   },
   "outputs": [
    {
     "name": "stdout",
     "output_type": "stream",
     "text": [
      "0\n",
      "1\n",
      "2\n",
      "3\n",
      "4\n",
      "5\n",
      "6\n",
      "7\n",
      "8\n"
     ]
    },
    {
     "ename": "ValueError",
     "evalue": "math domain error",
     "output_type": "error",
     "traceback": [
      "\u001b[0;31m---------------------------------------------------------------------------\u001b[0m",
      "\u001b[0;31mValueError\u001b[0m                                Traceback (most recent call last)",
      "\u001b[0;32m<ipython-input-65-8f4f58bb5c87>\u001b[0m in \u001b[0;36m<module>\u001b[0;34m()\u001b[0m\n\u001b[1;32m     12\u001b[0m                 \u001b[0;32mprint\u001b[0m \u001b[0mj\u001b[0m\u001b[0;34m\u001b[0m\u001b[0m\n\u001b[1;32m     13\u001b[0m                 \u001b[0;32mfor\u001b[0m \u001b[0mi\u001b[0m \u001b[0;32min\u001b[0m \u001b[0mrange\u001b[0m\u001b[0;34m(\u001b[0m\u001b[0;36m0\u001b[0m\u001b[0;34m,\u001b[0m\u001b[0mlen\u001b[0m\u001b[0;34m(\u001b[0m\u001b[0mx\u001b[0m\u001b[0;34m.\u001b[0m\u001b[0mdata\u001b[0m\u001b[0;34m.\u001b[0m\u001b[0mnumpy\u001b[0m\u001b[0;34m(\u001b[0m\u001b[0;34m)\u001b[0m\u001b[0;34m)\u001b[0m\u001b[0;34m)\u001b[0m\u001b[0;34m:\u001b[0m\u001b[0;34m\u001b[0m\u001b[0m\n\u001b[0;32m---> 14\u001b[0;31m                         \u001b[0mpclass0\u001b[0m \u001b[0;34m=\u001b[0m \u001b[0mprobclass\u001b[0m\u001b[0;34m(\u001b[0m\u001b[0mphat_MLE_fin\u001b[0m\u001b[0;34m[\u001b[0m\u001b[0mj\u001b[0m\u001b[0;34m]\u001b[0m\u001b[0;34m.\u001b[0m\u001b[0miloc\u001b[0m\u001b[0;34m[\u001b[0m\u001b[0;36m0\u001b[0m\u001b[0;34m]\u001b[0m\u001b[0;34m,\u001b[0m\u001b[0mx\u001b[0m\u001b[0;34m.\u001b[0m\u001b[0mdata\u001b[0m\u001b[0;34m.\u001b[0m\u001b[0mnumpy\u001b[0m\u001b[0;34m(\u001b[0m\u001b[0;34m)\u001b[0m\u001b[0;34m[\u001b[0m\u001b[0mi\u001b[0m\u001b[0;34m]\u001b[0m\u001b[0;34m)\u001b[0m\u001b[0;34m\u001b[0m\u001b[0m\n\u001b[0m\u001b[1;32m     15\u001b[0m                         \u001b[0mpclass1\u001b[0m \u001b[0;34m=\u001b[0m \u001b[0mprobclass\u001b[0m\u001b[0;34m(\u001b[0m\u001b[0mphat_MLE_fin\u001b[0m\u001b[0;34m[\u001b[0m\u001b[0mj\u001b[0m\u001b[0;34m]\u001b[0m\u001b[0;34m.\u001b[0m\u001b[0miloc\u001b[0m\u001b[0;34m[\u001b[0m\u001b[0;36m1\u001b[0m\u001b[0;34m]\u001b[0m\u001b[0;34m,\u001b[0m\u001b[0mx\u001b[0m\u001b[0;34m.\u001b[0m\u001b[0mdata\u001b[0m\u001b[0;34m.\u001b[0m\u001b[0mnumpy\u001b[0m\u001b[0;34m(\u001b[0m\u001b[0;34m)\u001b[0m\u001b[0;34m[\u001b[0m\u001b[0mi\u001b[0m\u001b[0;34m]\u001b[0m\u001b[0;34m)\u001b[0m\u001b[0;34m\u001b[0m\u001b[0m\n\u001b[1;32m     16\u001b[0m \u001b[0;34m\u001b[0m\u001b[0m\n",
      "\u001b[0;32m<ipython-input-61-a2e1e62df112>\u001b[0m in \u001b[0;36mprobclass\u001b[0;34m(listv, powerlist)\u001b[0m\n\u001b[1;32m      2\u001b[0m \u001b[0;34m\u001b[0m\u001b[0m\n\u001b[1;32m      3\u001b[0m \u001b[0;32mdef\u001b[0m \u001b[0mprobclass\u001b[0m\u001b[0;34m(\u001b[0m\u001b[0mlistv\u001b[0m\u001b[0;34m,\u001b[0m\u001b[0mpowerlist\u001b[0m\u001b[0;34m)\u001b[0m\u001b[0;34m:\u001b[0m\u001b[0;34m\u001b[0m\u001b[0m\n\u001b[0;32m----> 4\u001b[0;31m         \u001b[0mp_arr\u001b[0m \u001b[0;34m=\u001b[0m \u001b[0mnp\u001b[0m\u001b[0;34m.\u001b[0m\u001b[0marray\u001b[0m\u001b[0;34m(\u001b[0m\u001b[0mmap\u001b[0m\u001b[0;34m(\u001b[0m\u001b[0mmath\u001b[0m\u001b[0;34m.\u001b[0m\u001b[0mlog\u001b[0m\u001b[0;34m,\u001b[0m\u001b[0mlistv\u001b[0m\u001b[0;34m)\u001b[0m\u001b[0;34m)\u001b[0m\u001b[0;34m\u001b[0m\u001b[0m\n\u001b[0m\u001b[1;32m      5\u001b[0m         \u001b[0mpower_arr\u001b[0m \u001b[0;34m=\u001b[0m \u001b[0mnp\u001b[0m\u001b[0;34m.\u001b[0m\u001b[0marray\u001b[0m\u001b[0;34m(\u001b[0m\u001b[0mpowerlist\u001b[0m\u001b[0;34m)\u001b[0m\u001b[0;34m\u001b[0m\u001b[0m\n\u001b[1;32m      6\u001b[0m \u001b[0;34m\u001b[0m\u001b[0m\n",
      "\u001b[0;31mValueError\u001b[0m: math domain error"
     ]
    }
   ],
   "source": [
    "# Test\n",
    "\n",
    "correct = [0.0]*len(alpha)\n",
    "incorrect = [0.0]*len(alpha)\n",
    "\n",
    "for batch in test_iter:\n",
    "\tx = utils.bag_of_words(batch,text_field)\n",
    "\ty = batch.label-1\n",
    "\ty = y.data.numpy()\n",
    "\n",
    "\tfor j in range(0,len(alpha)):\n",
    "\t\tprint j\n",
    "\t\tfor i in range(0,len(x.data.numpy())):\n",
    "\t\t\tpclass0 = probclass(phat_MLE_fin[j].iloc[0],x.data.numpy()[i])\n",
    "\t\t\tpclass1 = probclass(phat_MLE_fin[j].iloc[1],x.data.numpy()[i])\n",
    "\n",
    "\t\t\tif np.argmax(np.array([pclass0,pclass1])) == int(y[i]):\n",
    "\t\t\t\tcorrect[j] += 1\n",
    "\t\t\telse:\n",
    "\t\t\t\tincorrect[j] += 1"
   ]
  },
  {
   "cell_type": "code",
   "execution_count": 66,
   "metadata": {
    "collapsed": false
   },
   "outputs": [
    {
     "name": "stdout",
     "output_type": "stream",
     "text": [
      "TEST RESULTS*********************************\n",
      "For alpha = 1, there were 864.0 correct predictions and 136.0 incorrect predictions, meaning 0.864 classification accuracy.\n",
      "For alpha = 0.8, there were 865.0 correct predictions and 135.0 incorrect predictions, meaning 0.865 classification accuracy.\n",
      "For alpha = 0.6, there were 862.0 correct predictions and 138.0 incorrect predictions, meaning 0.862 classification accuracy.\n",
      "For alpha = 0.5, there were 860.0 correct predictions and 140.0 incorrect predictions, meaning 0.86 classification accuracy.\n",
      "For alpha = 0.4, there were 855.0 correct predictions and 145.0 incorrect predictions, meaning 0.855 classification accuracy.\n",
      "For alpha = 0.3, there were 855.0 correct predictions and 145.0 incorrect predictions, meaning 0.855 classification accuracy.\n",
      "For alpha = 0.2, there were 847.0 correct predictions and 153.0 incorrect predictions, meaning 0.847 classification accuracy.\n",
      "For alpha = 0.1, there were 845.0 correct predictions and 155.0 incorrect predictions, meaning 0.845 classification accuracy.\n"
     ]
    },
    {
     "ename": "ZeroDivisionError",
     "evalue": "float division by zero",
     "output_type": "error",
     "traceback": [
      "\u001b[0;31m---------------------------------------------------------------------------\u001b[0m",
      "\u001b[0;31mZeroDivisionError\u001b[0m                         Traceback (most recent call last)",
      "\u001b[0;32m<ipython-input-66-58e70c8f9337>\u001b[0m in \u001b[0;36m<module>\u001b[0;34m()\u001b[0m\n\u001b[1;32m      1\u001b[0m \u001b[0;32mprint\u001b[0m \u001b[0;34m\"TEST RESULTS*********************************\"\u001b[0m\u001b[0;34m\u001b[0m\u001b[0m\n\u001b[1;32m      2\u001b[0m \u001b[0;32mfor\u001b[0m \u001b[0mj\u001b[0m \u001b[0;32min\u001b[0m \u001b[0mrange\u001b[0m\u001b[0;34m(\u001b[0m\u001b[0;36m0\u001b[0m\u001b[0;34m,\u001b[0m\u001b[0mlen\u001b[0m\u001b[0;34m(\u001b[0m\u001b[0malpha\u001b[0m\u001b[0;34m)\u001b[0m\u001b[0;34m)\u001b[0m\u001b[0;34m:\u001b[0m\u001b[0;34m\u001b[0m\u001b[0m\n\u001b[0;32m----> 3\u001b[0;31m         \u001b[0;32mprint\u001b[0m \u001b[0;34m\"For alpha = %s, there were %s correct predictions and %s incorrect predictions, meaning %s classification accuracy.\"\u001b[0m\u001b[0;34m%\u001b[0m\u001b[0;34m(\u001b[0m\u001b[0malpha\u001b[0m\u001b[0;34m[\u001b[0m\u001b[0mj\u001b[0m\u001b[0;34m]\u001b[0m\u001b[0;34m,\u001b[0m\u001b[0mcorrect\u001b[0m\u001b[0;34m[\u001b[0m\u001b[0mj\u001b[0m\u001b[0;34m]\u001b[0m\u001b[0;34m,\u001b[0m\u001b[0mincorrect\u001b[0m\u001b[0;34m[\u001b[0m\u001b[0mj\u001b[0m\u001b[0;34m]\u001b[0m\u001b[0;34m,\u001b[0m\u001b[0mcorrect\u001b[0m\u001b[0;34m[\u001b[0m\u001b[0mj\u001b[0m\u001b[0;34m]\u001b[0m\u001b[0;34m/\u001b[0m\u001b[0;34m(\u001b[0m\u001b[0mcorrect\u001b[0m\u001b[0;34m[\u001b[0m\u001b[0mj\u001b[0m\u001b[0;34m]\u001b[0m\u001b[0;34m+\u001b[0m\u001b[0mincorrect\u001b[0m\u001b[0;34m[\u001b[0m\u001b[0mj\u001b[0m\u001b[0;34m]\u001b[0m\u001b[0;34m)\u001b[0m\u001b[0;34m)\u001b[0m\u001b[0;34m\u001b[0m\u001b[0m\n\u001b[0m\u001b[1;32m      4\u001b[0m \u001b[0;34m\u001b[0m\u001b[0m\n\u001b[1;32m      5\u001b[0m \u001b[0;32mprint\u001b[0m \u001b[0;34m\"It took\"\u001b[0m\u001b[0;34m,\u001b[0m\u001b[0mtime\u001b[0m\u001b[0;34m.\u001b[0m\u001b[0mclock\u001b[0m\u001b[0;34m(\u001b[0m\u001b[0;34m)\u001b[0m\u001b[0;34m-\u001b[0m\u001b[0mtimebefore\u001b[0m\u001b[0;34m,\u001b[0m\u001b[0;34m\"seconds to test Naive Bayes!\"\u001b[0m\u001b[0;34m\u001b[0m\u001b[0m\n",
      "\u001b[0;31mZeroDivisionError\u001b[0m: float division by zero"
     ]
    }
   ],
   "source": [
    "print \"TEST RESULTS*********************************\"\n",
    "for j in range(0,len(alpha)):\n",
    "\tprint \"For alpha = %s, there were %s correct predictions and %s incorrect predictions, meaning %s classification accuracy.\"%(alpha[j],correct[j],incorrect[j],correct[j]/(correct[j]+incorrect[j]))\n",
    "\n",
    "print \"It took\",time.clock()-timebefore,\"seconds to test Naive Bayes!\""
   ]
  },
  {
   "cell_type": "code",
   "execution_count": null,
   "metadata": {
    "collapsed": true
   },
   "outputs": [],
   "source": []
  }
 ],
 "metadata": {
  "kernelspec": {
   "display_name": "Python 2",
   "language": "python",
   "name": "python2"
  },
  "language_info": {
   "codemirror_mode": {
    "name": "ipython",
    "version": 2
   },
   "file_extension": ".py",
   "mimetype": "text/x-python",
   "name": "python",
   "nbconvert_exporter": "python",
   "pygments_lexer": "ipython2",
   "version": "2.7.13"
  }
 },
 "nbformat": 4,
 "nbformat_minor": 1
}
