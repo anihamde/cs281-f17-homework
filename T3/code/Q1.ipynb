{
 "cells": [
  {
   "cell_type": "code",
   "execution_count": 5,
   "metadata": {
    "collapsed": true
   },
   "outputs": [],
   "source": [
    "import itertools\n",
    "import numpy as np\n",
    "import math\n",
    "import torch\n",
    "from torch.autograd import Variable"
   ]
  },
  {
   "cell_type": "markdown",
   "metadata": {},
   "source": [
    "# (a), (b)"
   ]
  },
  {
   "cell_type": "code",
   "execution_count": 38,
   "metadata": {
    "collapsed": true
   },
   "outputs": [],
   "source": [
    "ppl = ['SR','YD','MG','ZH','HS','RS','NZ','YK']"
   ]
  },
  {
   "cell_type": "code",
   "execution_count": 21,
   "metadata": {
    "collapsed": true
   },
   "outputs": [],
   "source": [
    "unarypotentials = [[0,0,0,0,0,0,0,0],[2,-2,-2,-8,-2,3,-2,1]]"
   ]
  },
  {
   "cell_type": "code",
   "execution_count": 40,
   "metadata": {
    "collapsed": false
   },
   "outputs": [],
   "source": [
    "def unary_potential(val,ind):\n",
    "    return unarypotentials[val][ind]"
   ]
  },
  {
   "cell_type": "code",
   "execution_count": 41,
   "metadata": {
    "collapsed": true
   },
   "outputs": [],
   "source": [
    "def binary_potential(val1,val2):\n",
    "    if val1 == val2 == 1:\n",
    "        return 2\n",
    "    else:\n",
    "        return 0"
   ]
  },
  {
   "cell_type": "code",
   "execution_count": 42,
   "metadata": {
    "collapsed": true
   },
   "outputs": [],
   "source": [
    "def global_score(SGvec):\n",
    "    UPs = 0\n",
    "    for i in range(0,8):\n",
    "        UPs += unary_potential(SGvec[i],i)\n",
    "        \n",
    "    BPs = binary_potential(SGvec[1],SGvec[5])+binary_potential(SGvec[2],SGvec[5])+binary_potential(SGvec[5],SGvec[3])+binary_potential(SGvec[3],SGvec[7])+binary_potential(SGvec[3],SGvec[4])+binary_potential(SGvec[3],SGvec[6])\n",
    "    return math.exp(UPs + BPs)"
   ]
  },
  {
   "cell_type": "code",
   "execution_count": 43,
   "metadata": {
    "collapsed": true
   },
   "outputs": [],
   "source": [
    "def enum_log_partition(unarypotentials):\n",
    "    normterm = 0\n",
    "    for j in itertools.product(range(0,2),repeat=8):\n",
    "        UPs = 0\n",
    "        for i in range(0,8):\n",
    "            seen = j[i]\n",
    "            UPs += unarypotentials[seen][i]\n",
    "\n",
    "        BPs = binary_potential(j[1],j[5])+binary_potential(j[2],j[5])+binary_potential(j[5],j[3])+binary_potential(j[3],j[7])+binary_potential(j[3],j[4])+binary_potential(j[3],j[6])\n",
    "        normterm += math.exp(UPs + BPs)\n",
    "        \n",
    "    return normterm"
   ]
  },
  {
   "cell_type": "code",
   "execution_count": 44,
   "metadata": {
    "collapsed": false
   },
   "outputs": [
    {
     "data": {
      "text/plain": [
       "148.4131591025766"
      ]
     },
     "execution_count": 44,
     "metadata": {},
     "output_type": "execute_result"
    }
   ],
   "source": [
    "global_score([1,0,0,0,0,1,0,0])"
   ]
  },
  {
   "cell_type": "code",
   "execution_count": 45,
   "metadata": {
    "collapsed": false
   },
   "outputs": [
    {
     "data": {
      "text/plain": [
       "3423.3716456041548"
      ]
     },
     "execution_count": 45,
     "metadata": {},
     "output_type": "execute_result"
    }
   ],
   "source": [
    "enum_log_partition(unarypotentials)"
   ]
  },
  {
   "cell_type": "code",
   "execution_count": 46,
   "metadata": {
    "collapsed": false
   },
   "outputs": [
    {
     "data": {
      "text/plain": [
       "8.138381205702334"
      ]
     },
     "execution_count": 46,
     "metadata": {},
     "output_type": "execute_result"
    }
   ],
   "source": [
    "math.log(enum_log_partition(unarypotentials))"
   ]
  },
  {
   "cell_type": "code",
   "execution_count": 47,
   "metadata": {
    "collapsed": false
   },
   "outputs": [
    {
     "data": {
      "text/plain": [
       "0.04335292059018755"
      ]
     },
     "execution_count": 47,
     "metadata": {},
     "output_type": "execute_result"
    }
   ],
   "source": [
    "global_score([1,0,0,0,0,1,0,0])/enum_log_partition(unarypotentials)"
   ]
  },
  {
   "cell_type": "markdown",
   "metadata": {},
   "source": [
    "# (c)"
   ]
  },
  {
   "cell_type": "code",
   "execution_count": 48,
   "metadata": {
    "collapsed": true
   },
   "outputs": [],
   "source": [
    "def pRS_seen(unarypotentials):\n",
    "    normterm = enum_log_partition(unarypotentials)\n",
    "    \n",
    "    probRS_seen = 0\n",
    "    \n",
    "    for j in itertools.product(range(0,2),repeat=7):\n",
    "        j = [1,j[0],j[1],j[2],j[3],j[4],j[5],j[6]]\n",
    "        UPs = 0\n",
    "        for i in range(0,8):\n",
    "            seen = j[i]\n",
    "            UPs += unarypotentials[seen][i]\n",
    "\n",
    "        BPs = binary_potential(j[1],j[5])+binary_potential(j[2],j[5])+binary_potential(j[5],j[3])+binary_potential(j[3],j[7])+binary_potential(j[3],j[4])+binary_potential(j[3],j[6])\n",
    "        probRS_seen += math.exp(UPs + BPs)\n",
    "        \n",
    "    return probRS_seen/normterm"
   ]
  },
  {
   "cell_type": "code",
   "execution_count": 49,
   "metadata": {
    "collapsed": false
   },
   "outputs": [
    {
     "data": {
      "text/plain": [
       "0.8807970779778823"
      ]
     },
     "execution_count": 49,
     "metadata": {},
     "output_type": "execute_result"
    }
   ],
   "source": [
    "pRS_seen(unarypotentials)"
   ]
  },
  {
   "cell_type": "markdown",
   "metadata": {},
   "source": [
    "# (d)"
   ]
  },
  {
   "cell_type": "code",
   "execution_count": null,
   "metadata": {
    "collapsed": true
   },
   "outputs": [],
   "source": []
  },
  {
   "cell_type": "markdown",
   "metadata": {},
   "source": [
    "# (e)"
   ]
  },
  {
   "cell_type": "code",
   "execution_count": 145,
   "metadata": {
    "collapsed": false
   },
   "outputs": [],
   "source": [
    "bigtheta = Variable(torch.Tensor([0,0,0,2,0,0,0,2,0,0,0,2,0,0,0,2,0,0,0,2,0,0,0,2,unarypotentials[0][0],unarypotentials[1][0],unarypotentials[0][1],unarypotentials[1][1],unarypotentials[0][2],unarypotentials[1][2],unarypotentials[0][3],unarypotentials[1][3],unarypotentials[0][4],unarypotentials[1][4],unarypotentials[0][5],unarypotentials[1][5],unarypotentials[0][6],unarypotentials[1][6],unarypotentials[0][7],unarypotentials[1][7]]),requires_grad = True)"
   ]
  },
  {
   "cell_type": "code",
   "execution_count": 146,
   "metadata": {
    "collapsed": true
   },
   "outputs": [],
   "source": [
    "def score_assignment(j,phi):\n",
    "    if j[2] == j[5] == 0:\n",
    "        phi[0] = 1\n",
    "    elif j[2] == 0 and j[5] == 1:\n",
    "        phi[1] = 1\n",
    "    elif j[2] == 1 and j[5] == 0:\n",
    "        phi[2] = 1\n",
    "    else:\n",
    "        phi[3] = 1\n",
    "            \n",
    "    if j[1] == j[5] == 0:\n",
    "        phi[4] = 1\n",
    "    elif j[1] == 0 and j[5] == 1:\n",
    "        phi[5] = 1\n",
    "    elif j[1] == 1 and j[5] == 0:\n",
    "        phi[6] = 1\n",
    "    else:\n",
    "        phi[7] = 1\n",
    "            \n",
    "    if j[5] == j[3] == 0:\n",
    "        phi[8] = 1\n",
    "    elif j[5] == 0 and j[3] == 1:\n",
    "        phi[9] = 1\n",
    "    elif j[5] == 1 and j[3] == 0:\n",
    "        phi[10] = 1\n",
    "    else:\n",
    "        phi[11] = 1\n",
    "        \n",
    "    if j[3] == j[7] == 0:\n",
    "        phi[12] = 1\n",
    "    elif j[3] == 0 and j[7] == 1:\n",
    "        phi[13] = 1\n",
    "    elif j[3] == 1 and j[7] == 0:\n",
    "        phi[14] = 1\n",
    "    else:\n",
    "        phi[15] = 1\n",
    "        \n",
    "    if j[3] == j[6] == 0:\n",
    "        phi[16] = 1\n",
    "    elif j[3] == 0 and j[6] == 1:\n",
    "        phi[17] = 1\n",
    "    elif j[3] == 1 and j[6] == 0:\n",
    "        phi[18] = 1\n",
    "    else:\n",
    "        phi[19] = 1\n",
    "            \n",
    "    if j[3] == j[4] == 0:\n",
    "        phi[20] = 1\n",
    "    elif j[3] == 0 and j[4] == 1:\n",
    "        phi[21] = 1\n",
    "    elif j[3] == 1 and j[4] == 0:\n",
    "        phi[22] = 1\n",
    "    else:\n",
    "        phi[23] = 1\n",
    "            \n",
    "    for k in range(0,8):\n",
    "        if j[k] == 0:\n",
    "            phi[24+2*k] = 1\n",
    "        else:\n",
    "            phi[24+2*k+1] = 1\n",
    "    \n",
    "    return phi\n",
    "\n",
    "def e_enum_log_partition(ranges):\n",
    "    sumstuff = []\n",
    "#     normterm_e = Variable(torch.Tensor([0]),requires_grad = True)\n",
    "    for j in ranges:\n",
    "        phi = np.zeros(len(bigtheta.data.numpy()))\n",
    "        \n",
    "        phi = score_assignment(j,phi)\n",
    "        \n",
    "        phi = Variable(torch.Tensor(phi))\n",
    "            \n",
    "        sumstuff.append(torch.exp(torch.dot(phi,bigtheta)))\n",
    "        \n",
    "    return torch.log(torch.cat(sumstuff,0).sum(0))"
   ]
  },
  {
   "cell_type": "code",
   "execution_count": 147,
   "metadata": {
    "collapsed": false
   },
   "outputs": [
    {
     "data": {
      "text/plain": [
       "Variable containing:\n",
       " 8.1384\n",
       "[torch.FloatTensor of size 1]"
      ]
     },
     "execution_count": 147,
     "metadata": {},
     "output_type": "execute_result"
    }
   ],
   "source": [
    "aofbigtheta = e_enum_log_partition(itertools.product(range(0,2),repeat=8))\n",
    "aofbigtheta"
   ]
  },
  {
   "cell_type": "code",
   "execution_count": 148,
   "metadata": {
    "collapsed": false
   },
   "outputs": [
    {
     "data": {
      "text/plain": [
       "Variable containing:\n",
       " 5\n",
       "[torch.FloatTensor of size 1]"
      ]
     },
     "execution_count": 148,
     "metadata": {},
     "output_type": "execute_result"
    }
   ],
   "source": [
    "e_enum_log_partition([[1,0,0,0,0,1,0,0]])"
   ]
  },
  {
   "cell_type": "code",
   "execution_count": 149,
   "metadata": {
    "collapsed": false
   },
   "outputs": [],
   "source": [
    "aofbigtheta.backward()"
   ]
  },
  {
   "cell_type": "code",
   "execution_count": 150,
   "metadata": {
    "collapsed": false
   },
   "outputs": [
    {
     "data": {
      "text/plain": [
       "Variable containing:\n",
       " 0.0134\n",
       " 0.4924\n",
       " 0.0018\n",
       " 0.4924\n",
       " 0.0134\n",
       " 0.4924\n",
       " 0.0018\n",
       " 0.4924\n",
       " 0.0151\n",
       " 0.0001\n",
       " 0.9436\n",
       " 0.0412\n",
       " 0.2578\n",
       " 0.7009\n",
       " 0.0020\n",
       " 0.0393\n",
       " 0.8445\n",
       " 0.1143\n",
       " 0.0206\n",
       " 0.0206\n",
       " 0.8445\n",
       " 0.1143\n",
       " 0.0206\n",
       " 0.0206\n",
       " 0.1192\n",
       " 0.8808\n",
       " 0.5058\n",
       " 0.4942\n",
       " 0.5058\n",
       " 0.4942\n",
       " 0.9588\n",
       " 0.0412\n",
       " 0.8651\n",
       " 0.1349\n",
       " 0.0152\n",
       " 0.9848\n",
       " 0.8651\n",
       " 0.1349\n",
       " 0.2598\n",
       " 0.7402\n",
       "[torch.FloatTensor of size 40]"
      ]
     },
     "execution_count": 150,
     "metadata": {},
     "output_type": "execute_result"
    }
   ],
   "source": [
    "bigtheta.grad"
   ]
  },
  {
   "cell_type": "markdown",
   "metadata": {},
   "source": [
    "# (f)"
   ]
  },
  {
   "cell_type": "code",
   "execution_count": 87,
   "metadata": {
    "collapsed": true
   },
   "outputs": [],
   "source": [
    "order = [2,5,1,3,6,7,4,0] # MG, RS, YD, ZH, NZ, YK, HS, SR (unconnected)\n",
    "backwards = [0,4,7,6,4,1,5,2]"
   ]
  },
  {
   "cell_type": "code",
   "execution_count": 88,
   "metadata": {
    "collapsed": true
   },
   "outputs": [],
   "source": [
    "arr_child = [[], [], [5], [6, 4, 7], [], [3, 1], [], []]\n",
    "arr_par = [None, 5, None, 5, 3, 2, 3, 3]"
   ]
  },
  {
   "cell_type": "code",
   "execution_count": 98,
   "metadata": {
    "collapsed": false
   },
   "outputs": [],
   "source": [
    "beliefs = np.array([[0.0]*8,[0.0]*8])\n",
    "mges = np.array([[[0.0]*8]*8,[[0.0]*8]*8])"
   ]
  },
  {
   "cell_type": "code",
   "execution_count": 109,
   "metadata": {
    "collapsed": false
   },
   "outputs": [],
   "source": [
    "for node in backwards:\n",
    "    for seen in range(0,2):\n",
    "        beliefs[seen][node] = np.exp(unarypotentials[seen][node])*np.prod([mges[seen][child][node] for child in arr_child[node]])\n",
    "    \n",
    "    normterm = beliefs[0][node]+beliefs[1][node]\n",
    "    print beliefs[0][node],beliefs[1][node]\n",
    "    print beliefs[0][node]/(normterm+0.0),beliefs[1][node]/(normterm+0.0)\n",
    "    beliefs[0][node] = beliefs[0][node]/(normterm)\n",
    "    beliefs[1][node] = beliefs[1][node]/(normterm)\n",
    "    \n",
    "    if arr_par[node]:\n",
    "        mges[0][node][arr_par[node]] = 1\n",
    "        mges[1][node][arr_par[node]] = math.exp(2)*beliefs[1][node] + beliefs[0][node]"
   ]
  },
  {
   "cell_type": "code",
   "execution_count": 102,
   "metadata": {
    "collapsed": true
   },
   "outputs": [],
   "source": [
    "rootbelief = np.array([[0.0]*8,[0.0]*8])\n",
    "node0 = backwards[-1]\n",
    "for seen in range(0,2):\n",
    "    rootbelief[seen][node0] = np.exp(unarypotentials[seen][node0])*np.prod([mges[seen][child][node0] for child in arr_child[node0]])\n",
    "\n",
    "normterm0 = rootbelief[0][node0]+rootbelief[1][node]\n",
    "rootbelief[0][node0] = rootbelief[0][node0]/(normterm0+0.0)\n",
    "rootbelief[1][node0] = rootbelief[1][node0]/(normterm0+0.0)"
   ]
  },
  {
   "cell_type": "code",
   "execution_count": 103,
   "metadata": {
    "collapsed": true
   },
   "outputs": [],
   "source": [
    "mges_down = np.array([[[0.0]*8]*8,[[0.0]*8]*8])"
   ]
  },
  {
   "cell_type": "code",
   "execution_count": 104,
   "metadata": {
    "collapsed": false
   },
   "outputs": [],
   "source": [
    "for node in order:\n",
    "    if arr_par[node]:\n",
    "        for seen in range(0,2):\n",
    "            rootbelief[seen][node] = beliefs[seen][node]*mges_down[seen][arr_par[node]][node]\n",
    "    else:\n",
    "        for seen in range(0,2):\n",
    "            fracterm = np.exp(unarypotentials[seen][node])\n",
    "            rootbelief[seen][node] = math.exp(fracterm)/(math.exp(fracterm+1)+0.0)\n",
    "            \n",
    "    normtermdown = rootbelief[0][node]+rootbelief[1][node]\n",
    "    rootbelief[0][node] = rootbelief[0][node]/(normtermdown+0.0)\n",
    "    rootbelief[1][node] = rootbelief[1][node]/(normtermdown+0.0)\n",
    "    \n",
    "    for child in arr_child[node]:\n",
    "        mges_down[0][node][child] = (rootbelief[0][node]/(mges[0][child][node]+0.0)) + (rootbelief[1][node]/(mges[1][child][node]+0.0))\n",
    "        mges_down[1][node][child] = (rootbelief[0][node]/(mges[0][child][node]+0.0)) + math.exp(2)*(rootbelief[1][node]/(mges[1][child][node]+0.0))"
   ]
  }
 ],
 "metadata": {
  "anaconda-cloud": {},
  "kernelspec": {
   "display_name": "Python 2",
   "language": "python",
   "name": "python2"
  },
  "language_info": {
   "codemirror_mode": {
    "name": "ipython",
    "version": 2
   },
   "file_extension": ".py",
   "mimetype": "text/x-python",
   "name": "python",
   "nbconvert_exporter": "python",
   "pygments_lexer": "ipython2",
   "version": "2.7.13"
  }
 },
 "nbformat": 4,
 "nbformat_minor": 1
}
