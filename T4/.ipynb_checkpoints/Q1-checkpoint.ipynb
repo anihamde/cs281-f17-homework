{
 "cells": [
  {
   "cell_type": "code",
   "execution_count": 1,
   "metadata": {
    "collapsed": true
   },
   "outputs": [],
   "source": [
    "import numpy as np\n",
    "import itertools\n",
    "import matplotlib.pyplot as plt\n",
    "from matplotlib import colors\n",
    "from collections import defaultdict"
   ]
  },
  {
   "cell_type": "code",
   "execution_count": 2,
   "metadata": {
    "collapsed": false
   },
   "outputs": [],
   "source": [
    "small = np.load('small.npy')\n",
    "spiral = np.load('spiral.npy')\n",
    "bullseye = np.load('bullseye.npy')\n",
    "flag = np.load('flag.npy')"
   ]
  },
  {
   "cell_type": "markdown",
   "metadata": {},
   "source": [
    "# 1.1"
   ]
  },
  {
   "cell_type": "code",
   "execution_count": 3,
   "metadata": {
    "collapsed": true
   },
   "outputs": [],
   "source": [
    "def find_neighbors(x,y):\n",
    "    ind = 3*x+y\n",
    "    \n",
    "    if ind == 0:\n",
    "        return [1,3]\n",
    "    elif ind == 1:\n",
    "        return [2,4]\n",
    "    elif ind == 2:\n",
    "        return [5]\n",
    "    elif ind == 3:\n",
    "        return [4,6]\n",
    "    elif ind == 4:\n",
    "        return [5,7]\n",
    "    elif ind == 5:\n",
    "        return [8]\n",
    "    elif ind == 6:\n",
    "        return [7]\n",
    "    elif ind == 7:\n",
    "        return [8]\n",
    "    elif ind == 8:\n",
    "        return []"
   ]
  },
  {
   "cell_type": "code",
   "execution_count": 4,
   "metadata": {
    "collapsed": true
   },
   "outputs": [],
   "source": [
    "def get_col(threetuple):\n",
    "    if threetuple[0]==1:\n",
    "        return 0\n",
    "    elif threetuple[1]==1:\n",
    "        return 1\n",
    "    else:\n",
    "        return 2"
   ]
  },
  {
   "cell_type": "code",
   "execution_count": null,
   "metadata": {
    "collapsed": true
   },
   "outputs": [],
   "source": []
  },
  {
   "cell_type": "code",
   "execution_count": 5,
   "metadata": {
    "collapsed": true
   },
   "outputs": [],
   "source": [
    "def calc_bin_pot(tdata,arr):\n",
    "    pot = 0\n",
    "    \n",
    "    # binary y,y potentials\n",
    "    for x in range(0,3):\n",
    "        for y in range(0,3):\n",
    "            neighbors = find_neighbors(x,y)\n",
    "            for pos in neighbors:\n",
    "                if tdata[pos] == tdata[3*x+y]:\n",
    "                    pot += 10\n",
    "                elif abs(tdata[pos] - tdata[3*x+y]) == 1:\n",
    "                    pot += 2\n",
    "    \n",
    "    # binary x,y potentials\n",
    "    for i in range(0,len(tdata)):\n",
    "        if tdata[i] == get_col(arr[i/3,i%3]):\n",
    "            pot += 10\n",
    "    \n",
    "    return pot"
   ]
  },
  {
   "cell_type": "code",
   "execution_count": 6,
   "metadata": {
    "collapsed": false
   },
   "outputs": [],
   "source": [
    "potentials = []\n",
    "tuplesiter = itertools.product(range(0,2),repeat=9)\n",
    "\n",
    "for tupl in tuplesiter:\n",
    "    potentials.append(calc_bin_pot(tupl,small))\n",
    "    \n",
    "potentials2 = np.exp(potentials)"
   ]
  },
  {
   "cell_type": "code",
   "execution_count": 7,
   "metadata": {
    "collapsed": false
   },
   "outputs": [],
   "source": [
    "marg110 = sum([x for i, x in enumerate(potentials2) if i%512<256])/(sum(potentials2)*1.0)\n",
    "marg120 = sum([x for i, x in enumerate(potentials2) if i%256<128])/(sum(potentials2)*1.0)\n",
    "marg130 = sum([x for i, x in enumerate(potentials2) if i%128<64])/(sum(potentials2)*1.0)\n",
    "marg210 = sum([x for i, x in enumerate(potentials2) if i%64<32])/(sum(potentials2)*1.0)\n",
    "marg220 = sum([x for i, x in enumerate(potentials2) if i%32<16])/(sum(potentials2)*1.0)\n",
    "marg230 = sum([x for i, x in enumerate(potentials2) if i%16<8])/(sum(potentials2)*1.0)\n",
    "marg310 = sum([x for i, x in enumerate(potentials2) if i%8<4])/(sum(potentials2)*1.0)\n",
    "marg320 = sum([x for i, x in enumerate(potentials2) if i%4<2])/(sum(potentials2)*1.0)\n",
    "marg330 = sum([x for i, x in enumerate(potentials2) if i%2<1])/(sum(potentials2)*1.0)"
   ]
  },
  {
   "cell_type": "code",
   "execution_count": 8,
   "metadata": {
    "collapsed": false
   },
   "outputs": [
    {
     "name": "stdout",
     "output_type": "stream",
     "text": [
      "[0.99999999999420131, 0.99999999999999811, 0.99999999999420131, 0.99999998480698482, 0.99999999999343092, 0.99999998480698482, 0.0025237822570379652, 0.0024846407668098333, 0.0025237822570379652]\n"
     ]
    }
   ],
   "source": [
    "print [marg110,marg120,marg130,marg210,marg220,marg230,marg310,marg320,marg330]"
   ]
  },
  {
   "cell_type": "code",
   "execution_count": 9,
   "metadata": {
    "collapsed": false
   },
   "outputs": [
    {
     "data": {
      "image/png": "[encoded data removed]",
      "text/plain": [
       "<matplotlib.figure.Figure at 0x10a22b5d0>"
      ]
     },
     "metadata": {},
     "output_type": "display_data"
    }
   ],
   "source": [
    "plt.imshow(small)\n",
    "plt.show()"
   ]
  },
  {
   "cell_type": "markdown",
   "metadata": {},
   "source": [
    "# 1.3"
   ]
  },
  {
   "cell_type": "code",
   "execution_count": 5,
   "metadata": {
    "collapsed": true
   },
   "outputs": [],
   "source": [
    "def find_neighbors(n,j):    \n",
    "    neighbors = []\n",
    "    \n",
    "    top = j-n\n",
    "    left = j-1\n",
    "    bottom = j+n\n",
    "    right = j+1\n",
    "    \n",
    "    if top >= 0:\n",
    "        neighbors.append(top)\n",
    "    \n",
    "    if bottom < n**2:\n",
    "        neighbors.append(bottom)\n",
    "        \n",
    "    if (left+1)%n != 0:\n",
    "        neighbors.append(left)\n",
    "        \n",
    "    if right%n != 0:\n",
    "        neighbors.append(right)\n",
    "        \n",
    "    return neighbors\n",
    "\n",
    "def binpot(val_i,val_j):\n",
    "    if val_i == val_j:\n",
    "        return 10\n",
    "    elif abs(val_i-val_j) == 1:\n",
    "        return 2\n",
    "    else:\n",
    "        return 0"
   ]
  },
  {
   "cell_type": "code",
   "execution_count": 20,
   "metadata": {
    "collapsed": true
   },
   "outputs": [],
   "source": [
    "num_epochs = 30\n",
    "\n",
    "def mnfieldupdates(array):\n",
    "    n = len(array)\n",
    "    \n",
    "    q = 0.5*np.ones((n**2,))\n",
    "    \n",
    "    for epoch in range(num_epochs):\n",
    "        print epoch\n",
    "        qnew = np.zeros(n**2)\n",
    "        \n",
    "        for i in range(0,n**2):\n",
    "            logslog = [0,0]\n",
    "            neighborsi = find_neighbors(n,i)\n",
    "\n",
    "            \n",
    "            for val in range(0,2):\n",
    "                if get_col(array[i/n][i%n]) == val:\n",
    "                    logslog[val] += 1\n",
    "                \n",
    "                binsum = 0\n",
    "                \n",
    "                for j in neighborsi:\n",
    "                    for val2 in range(0,2):\n",
    "                        binsum += q[j]*binpot(val,val2)\n",
    "                        \n",
    "                logslog[val] += binsum\n",
    "                \n",
    "            \n",
    "            qnew[i] = 1/(1+np.exp(logslog[1]-logslog[0]))\n",
    "        \n",
    "        q = qnew\n",
    "        \n",
    "    return q"
   ]
  },
  {
   "cell_type": "code",
   "execution_count": 21,
   "metadata": {
    "collapsed": false
   },
   "outputs": [
    {
     "ename": "NameError",
     "evalue": "name 'Qfinal' is not defined",
     "output_type": "error",
     "traceback": [
      "\u001b[0;31m---------------------------------------------------------------------------\u001b[0m",
      "\u001b[0;31mNameError\u001b[0m                                 Traceback (most recent call last)",
      "\u001b[0;32m<ipython-input-21-7dd42d1584ea>\u001b[0m in \u001b[0;36m<module>\u001b[0;34m()\u001b[0m\n\u001b[1;32m      3\u001b[0m \u001b[0mnorm\u001b[0m \u001b[0;34m=\u001b[0m \u001b[0mcolors\u001b[0m\u001b[0;34m.\u001b[0m\u001b[0mBoundaryNorm\u001b[0m\u001b[0;34m(\u001b[0m\u001b[0mbounds\u001b[0m\u001b[0;34m,\u001b[0m \u001b[0mcmap\u001b[0m\u001b[0;34m.\u001b[0m\u001b[0mN\u001b[0m\u001b[0;34m)\u001b[0m\u001b[0;34m\u001b[0m\u001b[0m\n\u001b[1;32m      4\u001b[0m \u001b[0;34m\u001b[0m\u001b[0m\n\u001b[0;32m----> 5\u001b[0;31m \u001b[0mplt\u001b[0m\u001b[0;34m.\u001b[0m\u001b[0mimshow\u001b[0m\u001b[0;34m(\u001b[0m\u001b[0mQfinal\u001b[0m\u001b[0;34m,\u001b[0m\u001b[0mcmap\u001b[0m\u001b[0;34m=\u001b[0m\u001b[0mcmap\u001b[0m\u001b[0;34m,\u001b[0m\u001b[0mnorm\u001b[0m\u001b[0;34m=\u001b[0m\u001b[0mnorm\u001b[0m\u001b[0;34m)\u001b[0m\u001b[0;34m\u001b[0m\u001b[0m\n\u001b[0m\u001b[1;32m      6\u001b[0m \u001b[0mplt\u001b[0m\u001b[0;34m.\u001b[0m\u001b[0mshow\u001b[0m\u001b[0;34m(\u001b[0m\u001b[0;34m)\u001b[0m\u001b[0;34m\u001b[0m\u001b[0m\n",
      "\u001b[0;31mNameError\u001b[0m: name 'Qfinal' is not defined"
     ]
    }
   ],
   "source": [
    "cmap = colors.ListedColormap(['green','red'])\n",
    "bounds=[0,0.5,1]\n",
    "norm = colors.BoundaryNorm(bounds, cmap.N)\n",
    "\n",
    "plt.imshow(Qfinal,cmap=cmap,norm=norm)\n",
    "plt.show()"
   ]
  },
  {
   "cell_type": "code",
   "execution_count": null,
   "metadata": {
    "collapsed": true
   },
   "outputs": [],
   "source": []
  },
  {
   "cell_type": "code",
   "execution_count": 22,
   "metadata": {
    "collapsed": false
   },
   "outputs": [
    {
     "name": "stdout",
     "output_type": "stream",
     "text": [
      "0\n",
      "1\n",
      "2\n",
      "3\n",
      "4\n",
      "5\n",
      "6\n",
      "7\n",
      "8\n",
      "9\n",
      "10\n",
      "11\n",
      "12\n",
      "13\n",
      "14\n",
      "15\n",
      "16\n",
      "17\n",
      "18\n",
      "19\n",
      "20\n",
      "21\n",
      "22\n",
      "23\n",
      "24\n",
      "25\n",
      "26\n",
      "27\n",
      "28\n",
      "29\n"
     ]
    }
   ],
   "source": [
    "Qfinal = mnfieldupdates(spiral)\n",
    "Qfinal = Qfinal.reshape(640,640)"
   ]
  },
  {
   "cell_type": "code",
   "execution_count": 23,
   "metadata": {
    "collapsed": false
   },
   "outputs": [
    {
     "data": {
      "image/png": "[encoded data removed]",
      "text/plain": [
       "<matplotlib.figure.Figure at 0x1115d3290>"
      ]
     },
     "metadata": {},
     "output_type": "display_data"
    }
   ],
   "source": [
    "plt.imshow(Qfinal,cmap=cmap,norm=norm)\n",
    "plt.show()"
   ]
  },
  {
   "cell_type": "code",
   "execution_count": 119,
   "metadata": {
    "collapsed": false
   },
   "outputs": [
    {
     "data": {
      "image/png": "[encoded data removed]",
      "text/plain": [
       "<matplotlib.figure.Figure at 0x10b6e4210>"
      ]
     },
     "metadata": {},
     "output_type": "display_data"
    }
   ],
   "source": [
    "plt.imshow(spiral)\n",
    "plt.show()"
   ]
  },
  {
   "cell_type": "code",
   "execution_count": null,
   "metadata": {
    "collapsed": true
   },
   "outputs": [],
   "source": []
  },
  {
   "cell_type": "markdown",
   "metadata": {},
   "source": [
    "# 1.4"
   ]
  },
  {
   "cell_type": "code",
   "execution_count": 6,
   "metadata": {
    "collapsed": true
   },
   "outputs": [],
   "source": [
    "num_epochs = 10"
   ]
  },
  {
   "cell_type": "code",
   "execution_count": null,
   "metadata": {
    "collapsed": true
   },
   "outputs": [],
   "source": []
  },
  {
   "cell_type": "code",
   "execution_count": 12,
   "metadata": {
    "collapsed": false
   },
   "outputs": [],
   "source": [
    "def edgepot(i,j,xi,xj,n):\n",
    "    if i in find_neighbors(n,j):\n",
    "        if xi == xj:\n",
    "            return 10\n",
    "        elif abs(xi-xj) == 1:\n",
    "            return 2\n",
    "        else:\n",
    "            return 0\n",
    "    else:\n",
    "        return 0\n",
    "\n",
    "def loopybf(array,nodepots):\n",
    "    n = len(array)\n",
    "    \n",
    "    messages = defaultdict(lambda: defaultdict(lambda: np.ones(2)))\n",
    "    beliefs = np.ones((n**2,2))\n",
    "    \n",
    "    for epoch in range(num_epochs):\n",
    "        print epoch\n",
    "        for i in range(0,n**2):\n",
    "            neighbors = find_neighbors(n,i)\n",
    "            for j in neighbors:\n",
    "                for xt in range(0,2):\n",
    "                    accumsum = 0\n",
    "                    accummult = 1\n",
    "                    for xs in range(0,2):\n",
    "                        for u in [x for x in neighbors if x != j]:\n",
    "                            accummult += messages[u][i][xs]\n",
    "                        accumsum += nodepots[i][xs]*edgepot(i,j,xs,xt,n)*accummult\n",
    "                    \n",
    "                    messages[i][j][xt] = accumsum\n",
    "        \n",
    "        for i in range(0,n**2):\n",
    "            for xt in range(0,2):\n",
    "                accum = nodepots[i][xt]\n",
    "                \n",
    "                neighbors = find_neighbors(n,i)\n",
    "                \n",
    "                for j in neighbors:\n",
    "                    accum *= messages[j][i][xt]\n",
    "                    \n",
    "                beliefs[i][xt] = accum\n",
    "            \n",
    "            sumbeliefs = beliefs[i][0]+beliefs[i][1]\n",
    "            \n",
    "            beliefs[i][0] = beliefs[i][0]/sumbeliefs\n",
    "            beliefs[i][1] = beliefs[i][1]/sumbeliefs\n",
    "            \n",
    "    return beliefs"
   ]
  },
  {
   "cell_type": "code",
   "execution_count": 8,
   "metadata": {
    "collapsed": true
   },
   "outputs": [],
   "source": [
    "array = spiral\n",
    "\n",
    "n = len(array)\n",
    "\n",
    "nodepots = np.zeros((n**2,2))\n",
    "\n",
    "for i in range(0,n**2):\n",
    "    for xt in range(0,2):\n",
    "        if get_col(array[i/n][i%n]) == xt:\n",
    "            nodepots[i][xt] = 10"
   ]
  },
  {
   "cell_type": "code",
   "execution_count": 10,
   "metadata": {
    "collapsed": false
   },
   "outputs": [
    {
     "data": {
      "text/plain": [
       "640"
      ]
     },
     "execution_count": 10,
     "metadata": {},
     "output_type": "execute_result"
    }
   ],
   "source": [
    "len(array)"
   ]
  },
  {
   "cell_type": "code",
   "execution_count": 17,
   "metadata": {
    "collapsed": false
   },
   "outputs": [
    {
     "name": "stdout",
     "output_type": "stream",
     "text": [
      "0\n"
     ]
    },
    {
     "name": "stderr",
     "output_type": "stream",
     "text": [
      "/usr/local/lib/python2.7/site-packages/ipykernel_launcher.py:29: RuntimeWarning: overflow encountered in double_scalars\n",
      "/usr/local/lib/python2.7/site-packages/ipykernel_launcher.py:29: RuntimeWarning: invalid value encountered in double_scalars\n",
      "/usr/local/lib/python2.7/site-packages/ipykernel_launcher.py:28: RuntimeWarning: overflow encountered in double_scalars\n"
     ]
    },
    {
     "ename": "KeyboardInterrupt",
     "evalue": "",
     "output_type": "error",
     "traceback": [
      "\u001b[0;31m---------------------------------------------------------------------------\u001b[0m",
      "\u001b[0;31mKeyboardInterrupt\u001b[0m                         Traceback (most recent call last)",
      "\u001b[0;32m<ipython-input-17-10e46bd5ca2e>\u001b[0m in \u001b[0;36m<module>\u001b[0;34m()\u001b[0m\n\u001b[0;32m----> 1\u001b[0;31m \u001b[0mresults\u001b[0m \u001b[0;34m=\u001b[0m \u001b[0mloopybf\u001b[0m\u001b[0;34m(\u001b[0m\u001b[0marray\u001b[0m\u001b[0;34m,\u001b[0m\u001b[0mnodepots\u001b[0m\u001b[0;34m)\u001b[0m\u001b[0;34m\u001b[0m\u001b[0m\n\u001b[0m",
      "\u001b[0;32m<ipython-input-12-ea9b2d5edb68>\u001b[0m in \u001b[0;36mloopybf\u001b[0;34m(array, nodepots)\u001b[0m\n\u001b[1;32m     21\u001b[0m             \u001b[0mneighbors\u001b[0m \u001b[0;34m=\u001b[0m \u001b[0mfind_neighbors\u001b[0m\u001b[0;34m(\u001b[0m\u001b[0mn\u001b[0m\u001b[0;34m,\u001b[0m\u001b[0mi\u001b[0m\u001b[0;34m)\u001b[0m\u001b[0;34m\u001b[0m\u001b[0m\n\u001b[1;32m     22\u001b[0m             \u001b[0;32mfor\u001b[0m \u001b[0mj\u001b[0m \u001b[0;32min\u001b[0m \u001b[0mneighbors\u001b[0m\u001b[0;34m:\u001b[0m\u001b[0;34m\u001b[0m\u001b[0m\n\u001b[0;32m---> 23\u001b[0;31m                 \u001b[0;32mfor\u001b[0m \u001b[0mxt\u001b[0m \u001b[0;32min\u001b[0m \u001b[0mrange\u001b[0m\u001b[0;34m(\u001b[0m\u001b[0;36m0\u001b[0m\u001b[0;34m,\u001b[0m\u001b[0;36m2\u001b[0m\u001b[0;34m)\u001b[0m\u001b[0;34m:\u001b[0m\u001b[0;34m\u001b[0m\u001b[0m\n\u001b[0m\u001b[1;32m     24\u001b[0m                     \u001b[0maccumsum\u001b[0m \u001b[0;34m=\u001b[0m \u001b[0;36m0\u001b[0m\u001b[0;34m\u001b[0m\u001b[0m\n\u001b[1;32m     25\u001b[0m                     \u001b[0maccummult\u001b[0m \u001b[0;34m=\u001b[0m \u001b[0;36m1\u001b[0m\u001b[0;34m\u001b[0m\u001b[0m\n",
      "\u001b[0;31mKeyboardInterrupt\u001b[0m: "
     ]
    }
   ],
   "source": [
    "results = loopybf(array,nodepots)"
   ]
  },
  {
   "cell_type": "code",
   "execution_count": null,
   "metadata": {
    "collapsed": true
   },
   "outputs": [],
   "source": []
  }
 ],
 "metadata": {
  "anaconda-cloud": {},
  "kernelspec": {
   "display_name": "Python 2",
   "language": "python",
   "name": "python2"
  },
  "language_info": {
   "codemirror_mode": {
    "name": "ipython",
    "version": 2
   },
   "file_extension": ".py",
   "mimetype": "text/x-python",
   "name": "python",
   "nbconvert_exporter": "python",
   "pygments_lexer": "ipython2",
   "version": "2.7.13"
  }
 },
 "nbformat": 4,
 "nbformat_minor": 1
}
