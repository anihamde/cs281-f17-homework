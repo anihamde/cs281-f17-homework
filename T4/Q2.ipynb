{
 "cells": [
  {
   "cell_type": "code",
   "execution_count": 1,
   "metadata": {
    "collapsed": true
   },
   "outputs": [],
   "source": [
    "import torch\n",
    "from torch.autograd.variable import Variable\n",
    "import numpy as np\n",
    "import utils\n",
    "import math"
   ]
  },
  {
   "cell_type": "code",
   "execution_count": 2,
   "metadata": {
    "collapsed": true
   },
   "outputs": [],
   "source": [
    "BS = 1000"
   ]
  },
  {
   "cell_type": "code",
   "execution_count": 3,
   "metadata": {
    "collapsed": false
   },
   "outputs": [
    {
     "name": "stdout",
     "output_type": "stream",
     "text": [
      "Loading Data, this might take several minutes\n",
      "Subsampling rate set to 0.100000\n",
      "0 lines read\n",
      "100000 lines read\n",
      "200000 lines read\n",
      "300000 lines read\n",
      "400000 lines read\n",
      "500000 lines read\n",
      "600000 lines read\n",
      "700000 lines read\n",
      "800000 lines read\n",
      "900000 lines read\n",
      "1000000 lines read\n",
      "1100000 lines read\n",
      "1200000 lines read\n",
      "1300000 lines read\n",
      "1400000 lines read\n",
      "1500000 lines read\n",
      "1600000 lines read\n",
      "1700000 lines read\n",
      "Data Loaded\n"
     ]
    }
   ],
   "source": [
    "train2,val2,test2 = utils.load_jester(load_text=False,batch_size=BS,subsample_rate=0.1)"
   ]
  },
  {
   "cell_type": "code",
   "execution_count": 47,
   "metadata": {
    "collapsed": false
   },
   "outputs": [
    {
     "name": "stdout",
     "output_type": "stream",
     "text": [
      "K=1, epoch 1 trained!\n",
      "K=1, epoch 2 trained!\n",
      "K=1, epoch 3 trained!\n",
      "K=1, epoch 4 trained!\n",
      "K=1, epoch 5 trained!\n",
      "K=1, epoch 6 trained!\n",
      "K=1, epoch 7 trained!\n",
      "K=1, epoch 8 trained!\n",
      "K=1, epoch 9 trained!\n",
      "K=1, epoch 10 trained!\n",
      "K=2, epoch 1 trained!\n",
      "K=2, epoch 2 trained!\n",
      "K=2, epoch 3 trained!\n",
      "K=2, epoch 4 trained!\n",
      "K=2, epoch 5 trained!\n",
      "K=2, epoch 6 trained!\n",
      "K=2, epoch 7 trained!\n",
      "K=2, epoch 8 trained!\n",
      "K=2, epoch 9 trained!\n",
      "K=2, epoch 10 trained!\n",
      "K=3, epoch 1 trained!\n",
      "K=3, epoch 2 trained!\n",
      "K=3, epoch 3 trained!\n",
      "K=3, epoch 4 trained!\n",
      "K=3, epoch 5 trained!\n",
      "K=3, epoch 6 trained!\n",
      "K=3, epoch 7 trained!\n",
      "K=3, epoch 8 trained!\n",
      "K=3, epoch 9 trained!\n",
      "K=3, epoch 10 trained!\n",
      "K=4, epoch 1 trained!\n",
      "K=4, epoch 2 trained!\n",
      "K=4, epoch 3 trained!\n",
      "K=4, epoch 4 trained!\n",
      "K=4, epoch 5 trained!\n",
      "K=4, epoch 6 trained!\n",
      "K=4, epoch 7 trained!\n",
      "K=4, epoch 8 trained!\n",
      "K=4, epoch 9 trained!\n",
      "K=4, epoch 10 trained!\n",
      "K=5, epoch 1 trained!\n",
      "K=5, epoch 2 trained!\n",
      "K=5, epoch 3 trained!\n",
      "K=5, epoch 4 trained!\n",
      "K=5, epoch 5 trained!\n",
      "K=5, epoch 6 trained!\n",
      "K=5, epoch 7 trained!\n",
      "K=5, epoch 8 trained!\n",
      "K=5, epoch 9 trained!\n",
      "K=5, epoch 10 trained!\n",
      "K=6, epoch 1 trained!\n",
      "K=6, epoch 2 trained!\n",
      "K=6, epoch 3 trained!\n",
      "K=6, epoch 4 trained!\n",
      "K=6, epoch 5 trained!\n",
      "K=6, epoch 6 trained!\n",
      "K=6, epoch 7 trained!\n",
      "K=6, epoch 8 trained!\n",
      "K=6, epoch 9 trained!\n",
      "K=6, epoch 10 trained!\n",
      "K=7, epoch 1 trained!\n",
      "K=7, epoch 2 trained!\n",
      "K=7, epoch 3 trained!\n",
      "K=7, epoch 4 trained!\n",
      "K=7, epoch 5 trained!\n",
      "K=7, epoch 6 trained!\n",
      "K=7, epoch 7 trained!\n",
      "K=7, epoch 8 trained!\n",
      "K=7, epoch 9 trained!\n",
      "K=7, epoch 10 trained!\n",
      "K=8, epoch 1 trained!\n",
      "K=8, epoch 2 trained!\n",
      "K=8, epoch 3 trained!\n",
      "K=8, epoch 4 trained!\n",
      "K=8, epoch 5 trained!\n",
      "K=8, epoch 6 trained!\n",
      "K=8, epoch 7 trained!\n",
      "K=8, epoch 8 trained!\n",
      "K=8, epoch 9 trained!\n",
      "K=8, epoch 10 trained!\n",
      "K=9, epoch 1 trained!\n",
      "K=9, epoch 2 trained!\n",
      "K=9, epoch 3 trained!\n",
      "K=9, epoch 4 trained!\n",
      "K=9, epoch 5 trained!\n",
      "K=9, epoch 6 trained!\n",
      "K=9, epoch 7 trained!\n",
      "K=9, epoch 8 trained!\n",
      "K=9, epoch 9 trained!\n",
      "K=9, epoch 10 trained!\n",
      "K=10, epoch 1 trained!\n",
      "K=10, epoch 2 trained!\n",
      "K=10, epoch 3 trained!\n",
      "K=10, epoch 4 trained!\n",
      "K=10, epoch 5 trained!\n",
      "K=10, epoch 6 trained!\n",
      "K=10, epoch 7 trained!\n",
      "K=10, epoch 8 trained!\n",
      "K=10, epoch 9 trained!\n",
      "K=10, epoch 10 trained!\n"
     ]
    }
   ],
   "source": [
    "eta = 0.001\n",
    "num_epochs = 10\n",
    "sigmasqeps = 1.0\n",
    "\n",
    "trainLLs = np.zeros((10,num_epochs))\n",
    "trainMLLBs = np.zeros((10,num_epochs))\n",
    "testLLs = np.zeros((10,num_epochs))\n",
    "testMLLBs = np.zeros((10,num_epochs))\n",
    "\n",
    "for K in range(1,11):\n",
    "    usersmeans = torch.nn.Embedding(70000,K)\n",
    "    jokesmeans = torch.nn.Embedding(150,K)\n",
    "\n",
    "    userslogvars = torch.nn.Embedding(70000,K)\n",
    "    userslogvars.weight.data = torch.FloatTensor(-100*np.ones((70000,K)))\n",
    "    jokeslogvars = torch.nn.Embedding(150,K)\n",
    "    jokeslogvars.weight.data = torch.FloatTensor(-100*np.ones((150,K)))\n",
    "    \n",
    "    optimizer = torch.optim.Adam([usersmeans.weight,jokesmeans.weight,userslogvars.weight,jokeslogvars.weight],lr=eta)\n",
    "\n",
    "    for epoch in range(num_epochs):\n",
    "        train2.init_epoch()\n",
    "        for batch in train2:\n",
    "            ratings = batch.ratings-1 # batch.rating is a tensor containing actual ratings 1/2/3/4/5,\n",
    "                                           # and we want that to be 0/1/2/3/4.\n",
    "            ratings = ratings.type(torch.FloatTensor)\n",
    "            users = batch.users-1 \n",
    "            jokes = batch.jokes-1\n",
    "\n",
    "            optimizer.zero_grad()\n",
    "\n",
    "            bsize = len(ratings)\n",
    "\n",
    "            ztild = Variable(torch.randn(bsize,K),requires_grad = False)\n",
    "            A = (torch.pow(torch.exp(userslogvars(users)),0.5))\n",
    "            b = (usersmeans(users))\n",
    "            ztildpr = Variable(torch.randn(bsize,K),requires_grad = False)\n",
    "            C = (torch.pow(torch.exp(jokeslogvars(jokes)),0.5))\n",
    "            d = jokesmeans(jokes)\n",
    "\n",
    "            Variable(torch.randn(bsize,K))*(torch.pow(torch.exp(userslogvars(users)),0.5))\n",
    "\n",
    "            # Fill out these terms\n",
    "            KLU = -0.5*torch.sum(userslogvars(users))+torch.sum((torch.pow(usersmeans(users),2)+torch.exp(userslogvars(users)))/(2*5.0)) #         -(bsize*K/2)*np.log(5) - (bsize*K/2)       \n",
    "            KLV = -0.5*torch.sum(jokeslogvars(jokes))+torch.sum((torch.pow(jokesmeans(jokes),2)+torch.exp(jokeslogvars(jokes)))/(2*5.0))\n",
    "            #-0.5*torch.sum(jokeslogvars(jokes))+torch.sum((torch.pow(jokesmeans(jokes),2)+5)/(2*torch.exp(jokeslogvars(jokes))))\n",
    "    #         thirdterm = -(1/(2*sigmasqeps))*torch.sum(torch.pow(ratings-torch.sum((usersmeans(users)+Variable(torch.randn(bsize,K))*torch.pow(torch.exp(userslogvars(users)),0.5))*(jokesmeans(jokes)+torch.randn(bsize,K)*torch.pow(torch.exp(jokeslogvars(jokes)),0.5)),1),2))  # - (BS/2)*np.log(2*math.pi*sigmasqeps)    \n",
    "            thirdterm = -(1/(2*sigmasqeps))*torch.sum(torch.pow(ratings.expand(100,bsize)-torch.sum((A*ztild+b)*(C*ztildpr+d),1),2))\n",
    "\n",
    "            loss = -(-KLU-KLV+thirdterm)\n",
    "\n",
    "            loss.backward()\n",
    "\n",
    "            optimizer.step()\n",
    "\n",
    "        print \"K=%s, epoch %s trained!\"%(K,epoch+1)\n",
    "\n",
    "        KLtrain = 0\n",
    "        LLtrain = 0\n",
    "        ncntr = 0\n",
    "\n",
    "        for batch in train2:\n",
    "            ratings = batch.ratings-1\n",
    "            ratings = ratings.type(torch.FloatTensor)\n",
    "            users = batch.users-1 \n",
    "            jokes = batch.jokes-1 \n",
    "\n",
    "            bsize = len(ratings)\n",
    "            ncntr += bsize\n",
    "\n",
    "            ztild = Variable(torch.randn(100,bsize,K))\n",
    "            A = (torch.pow(torch.exp(userslogvars(users)),0.5)).expand(100,bsize,K)\n",
    "            b = (usersmeans(users)).expand(100,bsize,K)\n",
    "            ztildpr = Variable(torch.randn(100,bsize,K))\n",
    "            C = (torch.pow(torch.exp(jokeslogvars(jokes)),0.5)).expand(100,bsize,K)\n",
    "            d = jokesmeans(jokes).expand(100,bsize,K)\n",
    "\n",
    "            KLU = -0.5*torch.sum(userslogvars(users))+torch.sum((torch.pow(usersmeans(users),2)+torch.exp(userslogvars(users)))/(2*5.0)) #         -(bsize*K/2)*np.log(5) - (bsize*K/2)       \n",
    "            KLV = -0.5*torch.sum(jokeslogvars(jokes))+torch.sum((torch.pow(jokesmeans(jokes),2)+torch.exp(jokeslogvars(jokes)))/(2*5.0))\n",
    "                \n",
    "            KLtrain += KLU + KLV\n",
    "            LLtrain += -(1/(100*2*sigmasqeps))*torch.sum(torch.pow(ratings.expand(100,bsize)-torch.sum((A*ztild+b)*(C*ztildpr+d),2),2))\n",
    "            \n",
    "        trainLLs[K-1][epoch] = (LLtrain.data.numpy()[0])/ncntr\n",
    "        trainMLLBs[K-1][epoch] = ((-KLtrain.data.numpy())[0]+(LLtrain.data.numpy()[0]))/ncntr\n",
    "\n",
    "\n",
    "        # TEST\n",
    "\n",
    "        KLtest = 0\n",
    "        LLtest = 0\n",
    "        ncntr = 0\n",
    "\n",
    "        for batch in test2:\n",
    "            ratings = batch.ratings-1\n",
    "            ratings = ratings.type(torch.FloatTensor)\n",
    "            users = batch.users-1 \n",
    "            jokes = batch.jokes-1 \n",
    "\n",
    "            bsize = len(ratings)\n",
    "            ncntr += bsize\n",
    "\n",
    "            ztild = Variable(torch.randn(100,bsize,K))\n",
    "            A = (torch.pow(torch.exp(userslogvars(users)),0.5)).expand(100,bsize,K)\n",
    "            b = (usersmeans(users)).expand(100,bsize,K)\n",
    "            ztildpr = Variable(torch.randn(100,bsize,K))\n",
    "            C = (torch.pow(torch.exp(jokeslogvars(jokes)),0.5)).expand(100,bsize,K)\n",
    "            d = jokesmeans(jokes).expand(100,bsize,K)\n",
    "\n",
    "            KLU = -0.5*torch.sum(userslogvars(users))+torch.sum((torch.pow(usersmeans(users),2)+torch.exp(userslogvars(users)))/(2*5.0)) #         -(bsize*K/2)*np.log(5) - (bsize*K/2)       #         -(bsize*K/2)*np.log(5) - (bsize*K/2)       \n",
    "            KLV = -0.5*torch.sum(jokeslogvars(jokes))+torch.sum((torch.pow(jokesmeans(jokes),2)+torch.exp(jokeslogvars(jokes)))/(2*5.0))\n",
    "            \n",
    "            KLtest += KLU + KLV\n",
    "            LLtest += -(1/(100*2*sigmasqeps))*torch.sum(torch.pow(ratings.expand(100,bsize)-torch.sum((A*ztild+b)*(C*ztildpr+d),2),2))\n",
    "\n",
    "        testLLs[K-1][epoch] = (LLtest.data.numpy()[0])/ncntr\n",
    "        testMLLBs[K-1][epoch] = ((-KLtest.data.numpy())[0]+(LLtest.data.numpy()[0]))/ncntr"
   ]
  },
  {
   "cell_type": "code",
   "execution_count": 48,
   "metadata": {
    "collapsed": false
   },
   "outputs": [
    {
     "data": {
      "text/plain": [
       "array([[-4.10533389, -4.02407462, -3.95812022, -3.90443111, -3.86099218,\n",
       "        -3.82532771, -3.79608793, -3.77207505, -3.75231147, -3.73571205],\n",
       "       [-4.29852937, -4.16951254, -4.06741535, -3.98686472, -3.92299039,\n",
       "        -3.87206111, -3.83123112, -3.79824021, -3.7713563 , -3.74906935],\n",
       "       [-4.62063409, -4.42331313, -4.26601208, -4.14042149, -4.0400228 ,\n",
       "        -3.9592978 , -3.89452929, -3.84216468, -3.7996268 , -3.76477963],\n",
       "       [-5.32971132, -4.99570845, -4.72774879, -4.51129239, -4.33855   ,\n",
       "        -4.19831876, -4.08442487, -3.99177357, -3.91575996, -3.85298163],\n",
       "       [-5.5339999 , -5.14871145, -4.84040481, -4.59360795, -4.3947661 ,\n",
       "        -4.23676797, -4.10910344, -4.00652216, -3.92402068, -3.85743851],\n",
       "       [-6.07384437, -5.60100697, -5.219061  , -4.91311601, -4.66564588,\n",
       "        -4.46554849, -4.3029043 , -4.16984538, -4.06110402, -3.9714046 ],\n",
       "       [-6.43056053, -5.87907712, -5.43801912, -5.08195889, -4.79470026,\n",
       "        -4.56044375, -4.37214306, -4.21838124, -4.0928253 , -3.98976209],\n",
       "       [-7.14352932, -6.49207609, -5.96329911, -5.53166749, -5.1791844 ,\n",
       "        -4.8888645 , -4.64909664, -4.45102011, -4.28676623, -4.14980925],\n",
       "       [-7.32005317, -6.61324445, -6.04054553, -5.57724425, -5.19877073,\n",
       "        -4.88884681, -4.63621586, -4.42782705, -4.25512076, -4.11181345],\n",
       "       [-7.64459643, -6.86261631, -6.23364822, -5.72576041, -5.31425337,\n",
       "        -4.97860724, -4.70457847, -4.48024834, -4.29537027, -4.14255643]])"
      ]
     },
     "execution_count": 48,
     "metadata": {},
     "output_type": "execute_result"
    }
   ],
   "source": [
    "trainLLs"
   ]
  },
  {
   "cell_type": "code",
   "execution_count": 49,
   "metadata": {
    "collapsed": false
   },
   "outputs": [
    {
     "data": {
      "text/plain": [
       "array([[-4.0359547 , -3.96654617, -3.90994744, -3.86368779, -3.8259123 ,\n",
       "        -3.79458028, -3.76874477, -3.74726815, -3.72953153, -3.71441615],\n",
       "       [-4.24626399, -4.13265246, -4.04255689, -3.97068118, -3.9137229 ,\n",
       "        -3.86771108, -3.83080852, -3.8009209 , -3.77639944, -3.75618057],\n",
       "       [-4.58484113, -4.4153167 , -4.27872785, -4.16823564, -4.0788503 ,\n",
       "        -4.00594871, -3.94646651, -3.89797111, -3.85794479, -3.82525838],\n",
       "       [-5.29206877, -5.00437973, -4.77030798, -4.57850937, -4.42314738,\n",
       "        -4.29523864, -4.18934429, -4.10230243, -4.02975772, -3.96942343],\n",
       "       [-5.48016152, -5.14950506, -4.88131623, -4.66374684, -4.48619446,\n",
       "        -4.34286864, -4.22544263, -4.13008509, -4.05260071, -3.98957713],\n",
       "       [-6.14553807, -5.72650886, -5.38315032, -5.10388249, -4.87420288,\n",
       "        -4.68570138, -4.53014742, -4.40069542, -4.29342982, -4.20412162],\n",
       "       [-6.51063124, -6.02517405, -5.62954333, -5.30380836, -5.03516911,\n",
       "        -4.81184342, -4.62906984, -4.47703909, -4.35081548, -4.24536357],\n",
       "       [-7.23349453, -6.67108453, -6.20628245, -5.81874752, -5.49611104,\n",
       "        -5.22470358, -4.99603124, -4.80404111, -4.64210398, -4.50512188],\n",
       "       [-7.45458181, -6.84482243, -6.33909318, -5.92099675, -5.57164207,\n",
       "        -5.27934498, -5.03586249, -4.83080985, -4.6575543 , -4.51131354],\n",
       "       [-7.72486097, -7.06674319, -6.52522504, -6.07780668, -5.70648949,\n",
       "        -5.39677942, -5.138622  , -4.92247838, -4.74123565, -4.58885067]])"
      ]
     },
     "execution_count": 49,
     "metadata": {},
     "output_type": "execute_result"
    }
   ],
   "source": [
    "testLLs"
   ]
  },
  {
   "cell_type": "code",
   "execution_count": 50,
   "metadata": {
    "collapsed": false
   },
   "outputs": [
    {
     "data": {
      "text/plain": [
       "array([[ -104.19178541,  -103.99777047,  -103.82140691,  -103.65907896,\n",
       "         -103.50935419,  -103.36842044,  -103.23511099,  -103.10807423,\n",
       "         -102.98614344,  -102.86781686],\n",
       "       [ -204.42635923,  -204.07876117,  -203.76145231,  -203.46918807,\n",
       "         -203.19642352,  -202.93911547,  -202.69363661,  -202.45758414,\n",
       "         -202.2288325 ,  -202.00551028],\n",
       "       [ -304.82490138,  -304.29746262,  -303.81595439,  -303.37148171,\n",
       "         -302.95630476,  -302.56443964,  -302.19228214,  -301.83449527,\n",
       "         -301.48830654,  -301.15196008],\n",
       "       [ -405.67792019,  -404.89220301,  -404.18240523,  -403.53041339,\n",
       "         -402.9328081 ,  -402.37193801,  -401.84207334,  -401.33734571,\n",
       "         -400.85290329,  -400.38440256],\n",
       "       [ -505.93074608,  -504.98510377,  -504.12868868,  -503.34320255,\n",
       "         -502.6116871 ,  -501.9326175 ,  -501.28723337,  -500.67183809,\n",
       "         -500.08028603,  -499.50804882],\n",
       "       [ -606.57934165,  -605.43676176,  -604.39486863,  -603.44220273,\n",
       "         -602.55700019,  -601.72729321,  -600.94166845,  -600.19153127,\n",
       "         -599.47008912,  -598.77170466],\n",
       "       [ -707.0194477 ,  -705.68297994,  -704.47533948,  -703.36441192,\n",
       "         -702.33314658,  -701.3616279 ,  -700.44865449,  -699.57509631,\n",
       "         -698.73490016,  -697.92118107],\n",
       "       [ -807.88083012,  -806.33065136,  -804.92029735,  -803.62176618,\n",
       "         -802.41509608,  -801.28152671,  -800.20673363,  -799.18110564,\n",
       "         -798.19669499,  -797.24490704],\n",
       "       [ -908.10662446,  -906.3932398 ,  -904.83271049,  -903.39860568,\n",
       "         -902.06246137,  -900.80496272,  -899.6183468 ,  -898.48255945,\n",
       "         -897.38900601,  -896.33112499],\n",
       "       [-1008.49091151, -1006.5914943 , -1004.86748185, -1003.28301691,\n",
       "        -1001.80972789, -1000.4244185 ,  -999.11174775,  -997.85822296,\n",
       "         -996.65183012,  -995.48388215]])"
      ]
     },
     "execution_count": 50,
     "metadata": {},
     "output_type": "execute_result"
    }
   ],
   "source": [
    "trainMLLBs"
   ]
  },
  {
   "cell_type": "code",
   "execution_count": 51,
   "metadata": {
    "collapsed": false
   },
   "outputs": [
    {
     "data": {
      "text/plain": [
       "array([[ -104.12321956,  -103.94308251,  -103.77811117,  -103.62516315,\n",
       "         -103.48303257,  -103.34839973,  -103.22043468,  -103.09781807,\n",
       "         -102.97979089,  -102.86480678],\n",
       "       [ -204.38061798,  -204.0522784 ,  -203.75083702,  -203.47104472,\n",
       "         -203.20908523,  -202.96029111,  -202.72247758,  -202.49323289,\n",
       "         -202.27055669,  -202.05288843],\n",
       "       [ -304.79451822,  -304.30090228,  -303.84624333,  -303.42268187,\n",
       "         -303.02445806,  -302.64623766,  -302.2850698 ,  -301.93667007,\n",
       "         -301.59882533,  -301.26997503],\n",
       "       [ -405.64243559,  -404.91133243,  -404.24324708,  -403.62390762,\n",
       "         -403.05132789,  -402.51049824,  -401.99611281,  -401.50468165,\n",
       "         -401.03109749,  -400.5726081 ],\n",
       "       [ -505.88588128,  -505.00482352,  -504.19833163,  -503.45187833,\n",
       "         -502.75144705,  -502.09647032,  -501.47071842,  -500.87169447,\n",
       "         -500.2947452 ,  -499.73533084],\n",
       "       [ -606.66485075,  -605.58705028,  -604.59493815,  -603.67988878,\n",
       "         -602.82374305,  -602.01662694,  -601.24923391,  -600.51350584,\n",
       "         -599.80461923,  -599.11763704],\n",
       "       [ -707.12030417,  -705.86335263,  -704.7143911 ,  -703.64680513,\n",
       "         -702.6474861 ,  -701.69992055,  -700.80547043,  -699.94637385,\n",
       "         -699.11848825,  -698.31528771],\n",
       "       [ -807.98053569,  -806.53552378,  -805.20508455,  -803.96674611,\n",
       "         -802.80558393,  -801.70604926,  -800.65775735,  -799.65316082,\n",
       "         -798.68607423,  -797.74895018],\n",
       "       [ -908.25837022,  -906.65968676,  -905.1835206 ,  -903.8114289 ,\n",
       "         -902.52179094,  -901.29900125,  -900.13869027,  -899.02275565,\n",
       "         -897.9453524 ,  -896.90097605],\n",
       "       [-1008.58801498, -1006.83236863, -1005.21586653, -1003.71183748,\n",
       "        -1002.29769606, -1000.95766655,  -999.68005902,  -998.453524  ,\n",
       "         -997.26954943,  -996.12075814]])"
      ]
     },
     "execution_count": 51,
     "metadata": {},
     "output_type": "execute_result"
    }
   ],
   "source": [
    "testMLLBs"
   ]
  },
  {
   "cell_type": "code",
   "execution_count": null,
   "metadata": {
    "collapsed": true
   },
   "outputs": [],
   "source": []
  }
 ],
 "metadata": {
  "anaconda-cloud": {},
  "kernelspec": {
   "display_name": "Python 2",
   "language": "python",
   "name": "python2"
  },
  "language_info": {
   "codemirror_mode": {
    "name": "ipython",
    "version": 2
   },
   "file_extension": ".py",
   "mimetype": "text/x-python",
   "name": "python",
   "nbconvert_exporter": "python",
   "pygments_lexer": "ipython2",
   "version": "2.7.13"
  }
 },
 "nbformat": 4,
 "nbformat_minor": 1
}
